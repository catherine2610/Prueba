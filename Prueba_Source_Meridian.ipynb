{
  "nbformat": 4,
  "nbformat_minor": 0,
  "metadata": {
    "colab": {
      "name": "Prueba_Source_Meridian.ipynb",
      "provenance": [],
      "collapsed_sections": [],
      "authorship_tag": "ABX9TyNZAZ7/kfWqF+72Neqa+Bmy",
      "include_colab_link": true
    },
    "kernelspec": {
      "display_name": "Python 3",
      "name": "python3"
    },
    "language_info": {
      "name": "python"
    }
  },
  "cells": [
    {
      "cell_type": "markdown",
      "metadata": {
        "id": "view-in-github",
        "colab_type": "text"
      },
      "source": [
        "<a href=\"https://colab.research.google.com/github/catherine2610/Prueba/blob/main/Prueba_Source_Meridian.ipynb\" target=\"_parent\"><img src=\"https://colab.research.google.com/assets/colab-badge.svg\" alt=\"Open In Colab\"/></a>"
      ]
    },
    {
      "cell_type": "markdown",
      "metadata": {
        "id": "CzHXIjVFREfh"
      },
      "source": [
        "#### PYTHON/API TECHNICAL TEST \n",
        "\n",
        "Las siguientes API, contienen ingredientes de los cuales se debe consumir los sinónimos y estos deben ser clasificados, limpiados y cargados a un modelo SQL. \n",
        "\n",
        "1. Consuma la siguiente API:\n",
        "\n",
        "```\n",
        "https://rxnav.nlm.nih.gov/REST/allconcepts.json?tty=IN\n",
        "```\n",
        "Esta le permite ver una lista de ingredientes médicos \n"
      ]
    },
    {
      "cell_type": "code",
      "metadata": {
        "colab": {
          "base_uri": "https://localhost:8080/"
        },
        "id": "q-KDsj4TrGhT",
        "outputId": "285cdd66-b516-4c9c-af3d-dc8d8d846b3d"
      },
      "source": [
        "import requests\n",
        "import json\n",
        "import re\n",
        "import pandas as pd\n",
        "\n",
        "url_ingredientes = 'https://rxnav.nlm.nih.gov/REST/allconcepts.json?tty=IN'  #configuramos la url\n",
        "\n",
        "#solicitamos la información y guardamos la respuesta en response_1.\n",
        "response_ingredientes = requests.get(url_ingredientes)  \n",
        "json_ingredientes = response_ingredientes.json()  #convertimos la respuesta en dict\n",
        "\n",
        "print(response_ingredientes)\n"
      ],
      "execution_count": 5,
      "outputs": [
        {
          "output_type": "stream",
          "name": "stdout",
          "text": [
            "<Response [200]>\n"
          ]
        }
      ]
    },
    {
      "cell_type": "code",
      "metadata": {
        "colab": {
          "base_uri": "https://localhost:8080/"
        },
        "id": "DnIo0dHx1zu5",
        "outputId": "53158c58-568d-4373-b41c-14f70876f4c8"
      },
      "source": [
        "lista_ingredientes = []\n",
        "\n",
        "for nombre_ingredientes in json_ingredientes[\"minConceptGroup\"]['minConcept']:\n",
        "\n",
        "    if re.match(r'[a-z][\\D]', nombre_ingredientes['name']):\n",
        "        reemplazo = re.sub(r'[\\(\\)\\-\\[\\]\\,\\.]',' ',nombre_ingredientes['name'])\n",
        "        lista_ingredientes.append(reemplazo)\n",
        "        \n",
        "print(lista_ingredientes[:100])"
      ],
      "execution_count": 7,
      "outputs": [
        {
          "output_type": "stream",
          "name": "stdout",
          "text": [
            "['abacavir', 'abaloparatide', 'abarelix', 'abatacept', 'abciximab', 'abemaciclib', 'abetimus', 'abiraterone', 'acacia decurrens flower extract', 'acacia decurrens whole extract', 'acai berry extract', 'acai extract', 'acai fruit pulp', 'acai oil', 'acalabrutinib', 'acamprosate', 'acarbose', 'acebutolol', 'acecarbromal', 'aceclofenac', 'acefylline methylsilanol mannuronate', 'aceglutamide', 'acellular pertussis vaccine  inactivated', 'acemannan', 'acemetacin', 'acenocoumarol', 'acepromazine', 'aceprometazine', 'acesulfame', 'acetaldehyde', 'acetamide', 'acetamidoethoxyethanol', 'acetamidopropyl trimonium', 'acetaminophen', 'acetanilide', 'acetate', 'acetazolamide', 'acetiamine', 'acetic acid', 'acetic acid C 11', 'acetic anhydride', 'acetic monoethanolamide', 'acetohexamide', 'acetohydroxamic acid', 'acetone', 'acetophenazine', 'acetophenone', 'acetoxolone', 'acetyl arginine', 'acetyl carboxymethyl cocoyl glycine', 'acetyl cedrene', 'acetyl coenzyme A', 'acetyl decapeptide 3', 'acetyl dipeptide 1 cetyl ester', 'acetyl farnesylcysteine', 'acetyl glutamic acid', 'acetyl hexamethyl tetralin', 'acetyl hexapeptide 49', 'acetyl hexapeptide 8', 'acetyl octapeptide 3', 'acetyl salicylate', 'acetyl tetrapeptide 11', 'acetyl tetrapeptide 15', 'acetyl tetrapeptide 2', 'acetyl tetrapeptide 3', 'acetyl tetrapeptide 5', 'acetyl tetrapeptide 9', 'acetyl triethylhexyl citrate', 'acetyl trifluoromethylphenyl valylglycine  DL ', 'acetylated lanolin', 'acetylated lanolin alcohols', 'acetylated sucrose distearate', 'acetylcarnitine', 'acetylcellulose', 'acetylcholine', 'acetylcholinesterase', 'acetylcholinesterase human', 'acetylcysteine', 'acetyldigitoxin', 'acetyldigoxins', 'acetylene', 'acetylglucosamine', 'acetylmandelic acid   +  ', 'acetylsalicylsalicylic acid', 'acetyltributyl citrate', 'acetyltriethyl citrate', 'acetyltryptophanate', 'acexamic acid', 'acid black 52', 'acid blue 25', 'acid blue 80', 'acid blue 9 ammonium', 'acid green 50', 'acid orange 20', 'acid red 1', 'acid red 35', 'acid violet 43', 'acid violet 9', 'acid yellow 1', 'acidulated phosphate fluoride']\n"
          ]
        }
      ]
    },
    {
      "cell_type": "markdown",
      "metadata": {
        "id": "4Kr8JXV0SUju"
      },
      "source": [
        "2. Consuma la siguiente API: \n",
        "\n",
        "```\n",
        "https://pubchem.ncbi.nlm.nih.gov/rest/pug/compound/name/{ingrediente}/synonyms/json\n",
        "```\n",
        "Esta le permite ver la lista de los sinónimos de los ingredientes de la lista anterior, debe reemplazar {ingrediente}, con el nombre de la lista del paso 1.\n"
      ]
    },
    {
      "cell_type": "code",
      "metadata": {
        "id": "WCPy4cJurJ7r"
      },
      "source": [
        "url_sinonimos = 'https://pubchem.ncbi.nlm.nih.gov/rest/pug/compound/name/{}/synonyms/json'\n",
        "lista_sinonimos = []\n",
        "\n",
        "for dct in json_ingredientes[\"minConceptGroup\"]['minConcept']:\n",
        "    try:\n",
        "      \n",
        "        response_sinonimos = requests.get(url_sinonimos.format(dct['name']))\n",
        "        json_sinonimos = response_sinonimos.json() \n",
        "        lista_sinonimos.append(json_sinonimos)\n",
        "\n",
        "    except:\n",
        "        continue\n",
        "    "
      ],
      "execution_count": null,
      "outputs": []
    },
    {
      "cell_type": "markdown",
      "metadata": {
        "id": "fydNrNCsUw0C"
      },
      "source": [
        "Se guarda la lista en un archivo json:"
      ]
    },
    {
      "cell_type": "code",
      "metadata": {
        "id": "iLBLWF7wTD-h"
      },
      "source": [
        "with open('data.json','w') as f:\n",
        "  json.dump(lista_sinonimos,f,indent=4)"
      ],
      "execution_count": null,
      "outputs": []
    },
    {
      "cell_type": "code",
      "metadata": {
        "id": "GFVzI8cLR2_2"
      },
      "source": [
        "with open('data.json') as file:\n",
        "    datos_sinonimos = json.load(file)"
      ],
      "execution_count": 302,
      "outputs": []
    },
    {
      "cell_type": "code",
      "metadata": {
        "colab": {
          "base_uri": "https://localhost:8080/"
        },
        "id": "xb8u4dKUTHtJ",
        "outputId": "0f203661-b3a9-498d-ff2c-edd7d6bbbaa5"
      },
      "source": [
        "print(type(data))"
      ],
      "execution_count": 303,
      "outputs": [
        {
          "output_type": "stream",
          "name": "stdout",
          "text": [
            "<class 'list'>\n"
          ]
        }
      ]
    },
    {
      "cell_type": "code",
      "metadata": {
        "colab": {
          "base_uri": "https://localhost:8080/"
        },
        "id": "uBFbb-jmgwZF",
        "outputId": "5aaf2469-bf05-4c7d-c7f3-d6a7b97d620d"
      },
      "source": [
        "print(datos_sinonimos[:30])"
      ],
      "execution_count": 304,
      "outputs": [
        {
          "output_type": "stream",
          "name": "stdout",
          "text": [
            "[{'InformationList': {'Information': [{'CID': 14650275, 'Synonym': ['97553-90-7', 'UNII-S78T1JQV6B', 'S78T1JQV6B', 'Methanol, (((1-methyl-2-(5-methyl-3-oxazolidinyl)ethoxy)methoxy)methoxy)-', '(((1-methyl-2-(5-methyl-3-oxazolidinyl)ethoxy)methoxy)methoxy)-methanol', '(((1-Methyl-2-(5-Methyl-3-Oxazolidinyl)Ethoxy)Methoxy)Methoxy)Methanol', '[[[1-Methyl-2-(5-methyl-3-oxazolidinyl)ethoxy]methoxy]methoxy]methanol', 'SCHEMBL1893826', 'DTXSID5034721', '(((1-Methyl-2-(5-methyl-3-oxazolidinyl)ethyoxy)methoxy)methoxy)methanol', 'Q27288768']}]}}, {'Fault': {'Code': 'PUGREST.NotFound', 'Message': 'No CID found', 'Details': ['No CID found that matches the given name']}}, {'InformationList': {'Information': [{'CID': 10857465, 'Synonym': ['(-)-Ambroxide', '6790-58-5', 'Ambroxan', 'Ambroxide', 'Ambrox', 'UNII-TD34B3O8M9', 'TD34B3O8M9', 'CHEBI:78307', '8alpha,12-Oxido-13,14,15,16-tetranorlabdane', 'FEMA No. 3471', '1,5,5,9-Tetramethyl-13-oxatricyclo[8.3.0.0(4,9)]tridecane', '(3aR,5aS,9aS,9bR)-3a,6,6,9a-tetramethyl-2,4,5,5a,7,8,9,9b-octahydro-1H-benzo[e][1]benzofuran', '(3aR,5aS,9aS,9bR)-3a,6,6,9a-tetramethyldodecahydronaphtho[2,1-b]furan', 'Naphtho(2,1-b)furan, dodecahydro-3a,6,6,9a-tetramethyl-, (3aR,5aS,9aS,9bR)-', 'EINECS 229-861-2', '(-)-ambrox', '(+/-)-Ambrox', 'Ambroxide, (+/-)-', '(-)-Ambroxide, 99%', 'EC 229-861-2', 'DSSTox_CID_27113', 'DSSTox_RID_82123', 'DSSTox_GSID_47113', 'SCHEMBL114912', '(-)-Ambroxide, >=99%', 'CHEMBL496447', 'DTXSID0047113', '(-)-Ambroxide, analytical standard', 'HY-N1384', 'ZINC1043941', 'Tox21_302674', 'MFCD00134491', 's5175', 'AKOS025311143', 'CCG-266845', 'NCGC00256883-01', '100679-85-4', 'AS-56452', 'Dodecahydro-3a,6,6,9a-tetramethylnaphtho(2,1-b)furan, (3aR-(3aalpha,5abeta,9aalpha,9bbeta))-', 'L374', 'Naphtho(2,1-b)furan, dodecahydro-3a,6,6,9a-tetramethyl-, (3aR-(3aalpha,5abeta,9aalpha,9bbeta))-', 'CAS-6790-58-5', 'CS-0016804', '4-Pentyloxyphenyl-4-Trans-PropylcyclohexylBenzo', 'Q2793438', 'F0001-1783', 'UNII-K60YJF1E9A component YPZUZOLGGMJZJO-LQKXBSAESA-N', '1,5,5,9-Tetramethyl-13-oxatricyclo (8.3.0.0.(4.9))tridecane', '1,5,5,9-Tetramethyl-13-oxatricyclo(8.3.0.0(sup 4,9))tridecane', '1,5,5,9-Tetramethyl-13-oxatricyclo(8.3.0.0(4,9))tridecane, (-)-', '(+/-)-(3aalpha,5abeta,9aalpha,9bbeta)-3a,6,6,9a-Tetramethyldodecahydronaphtho(2,1-b)furan', 'Naphtho(2,1-b)furan, dodecahydro-3a,6,6,9a-tetramethyl-, (3aalpha,5abeta,9aalpha,9bbeta)-', 'Naphtho(2,1-b)furan, dodecahydro-3a,6,6,9a-tetramethyl-, (3aR,5aS,9aS,9bR)-rel-', '(3AR-(3aalpha,5abeta,9aalpha,9bbeta))-dodecahydro-3a,6,6,9a-tetramethylnaphtho(2,1-b)furan', 'Naphtho(2,1-b)furan, dodecahydro-3a,6,6,9a-tetramethyl-, (3aalpha,5abeta,9aalpha,9bbeta)-(+/-)-']}]}}, {'InformationList': {'Information': [{'CID': 14233, 'Synonym': ['tert-Butylurea', 'N-tert-Butylurea', '1118-12-3', '(1,1-Dimethylethyl)urea', 'UREA, tert-BUTYL-', 'Urea, (1,1-dimethylethyl)-', '1-tert-Butylurea', 'tert-butyl urea', 'Urea, N-(1,1-dimethylethyl)-', 'UNII-T81TP489AF', 'T81TP489AF', 'MFCD00025448', 'NSC 4604', 'EINECS 214-257-3', 'BRN 1744501', 't-butylurea', 'NSC4604', 'tert-butyl isourea', 'N-(tert-butyl)urea', 'ACMC-20ajk8', 'Urea,1-dimethylethyl)-', 'amino-N-(tert-butyl)amide', 'DSSTox_CID_24365', 'DSSTox_RID_80173', 'N-(1,1-dimethylethyl)urea', 'DSSTox_GSID_44365', 'SCHEMBL23828', '4-04-00-00665 (Beilstein Handbook Reference)', 'CHEMBL3184658', 'DTXSID0044365', 'SCHEMBL17011644', 'N-tert-Butylurea, >=97.0%', 'Tert-Butylurea; N-tert-Butylurea', 'ZINC397497', 'NSC-4604', 'Tox21_302081', '7334AF', 'SBB008606', 'AKOS000120185', 'MCULE-7867571542', 'VZ36916', 'NCGC00255818-01', 'CAS-1118-12-3', 'DB-041007', 'FT-0633346', 'J-002633']}]}}, {'Fault': {'Code': 'PUGREST.NotFound', 'Message': 'No CID found', 'Details': ['No CID found that matches the given name']}}, {'InformationList': {'Information': [{'CID': 11073797, 'Synonym': ['133481-09-1', '2-(1-cyanocyclohexyl)acetic Acid', '1-cyanocyclohexaneacetic acid', '(1-Cyanocyclohexyl)acetic acid', 'Gabapentin Related Compound B', 'UNII-E1393FZ76L', '(1-Cyanocyclohexyl)-acetic acid', 'E1393FZ76L', 'Cyclohexaneacetic acid,1-cyano-', 'Cyclohexaneacetic acid, 1-cyano-', 'gabapentin usp rc b', 'ACMC-20aa2u', 'gabapentin related material b', 'SCHEMBL840651', 'DTXSID40158130', 'BCP04520', 'ZINC2529197', '6091AA', 'ANW-63988', 'MFCD04117948', '1-CYANOCYCLOHEXANE ACETIC ACID', 'AKOS006291872', 'VZ21391', 'AK-58083', 'DB-062980', 'FT-0657196', '481C091', 'J-006389', 'Q27276734', '(1-Cyanocyclohexyl)acetic acid, analytical reference material', 'Gabapentin impurity B, European Pharmacopoeia (EP) Reference Standard', 'Gabapentin Related Compound B, United States Pharmacopeia (USP) Reference Standard', '(1-CYANOCYCLOHEXYL)ACETIC ACID(Gabapentin Related Compound B)(Gabapentin Impurity B), Pharmaceutical Secondary Standard; Certified Reference Material']}]}}, {'Fault': {'Code': 'PUGREST.NotFound', 'Message': 'No CID found', 'Details': ['No CID found that matches the given name']}}, {'InformationList': {'Information': [{'CID': 87378, 'Synonym': ['(2-Carbethoxyethyl)diethoxy(methyl)silane', 'UNII-N28HAC3H5P', 'ethyl 3-[diethoxy(methyl)silyl]propanoate', 'N28HAC3H5P', '17963-09-6', 'BRN 2092919', 'Diethoxy-2-ethoxycarbonylethyl-methylsilane', 'Silane, diethoxy((2-ethoxycarbonyl)ethyl)methyl-', 'Propionic acid, 3-(diethoxymethylsilyl)-, ethyl ester', 'SCHEMBL9705684', 'DTXSID00939245', '3-[Diethoxy(methyl)silyl]propionic acid ethyl ester', 'Q27284416']}]}}, {'InformationList': {'Information': [{'CID': 80909, 'Synonym': ['(2-Carbethoxyethyl)triethoxysilane', '6439-39-0', 'UNII-S4I8J73T8G', 'ethyl 3-triethoxysilylpropanoate', 'S4I8J73T8G', 'BRN 1791336', 'Silane, ((2-ethoxycarbonyl)ethyl)triethoxy-', 'Propionic acid, 3-(triethoxysilyl)-, ethyl ester', '3-(Triethoxysilyl)propanoic acid, ethyl ester', 'PROPANOICACID,3-(TRIETHOXYSILYL)-,ETHYLESTER', 'SCHEMBL3682278', 'DTXSID30214597', 'ZINC195765243', 'Triethoxy (2-ethoxycarbonylethyl) silane', '[2-(ethoxycarbonyl)ethyl]triethoxylsilane', '3-(Triethoxysilyl)propionic acid ethyl ester', 'Q27288583']}]}}, {'InformationList': {'Information': [{'CID': 2624926, 'Synonym': ['(2-Chlorophenyl)methyl 4-hydroxybenzoate', '85392-27-4', 'UNII-7910S1F5QK', '7910S1F5QK', 'EINECS 286-886-1', 'SCHEMBL831262', 'DTXSID70234592', 'ZINC3507909', '4-Hydroxybenzoic acid (2-chlorophenyl)methyl ester', 'Q27266703']}]}}, {'InformationList': {'Information': [{'CID': 61929, 'Synonym': ['2-[(hydroxymethyl)amino]ethanol', '65184-12-5', '2-((Hydroxymethyl)amino)ethanol', '2-(Hydroxymethylamino)ethanol', 'UNII-1U7S07JNW3', 'Ethanol,2-[(hydroxymethyl)amino]-', 'Ethanol, 2-[(hydroxymethyl)amino]-', '1U7S07JNW3', '(2-hydroxyethyl)(hydroxymethyl)amine', 'N-Methylol ethanolamine', 'Ethanol, 2-((hydroxymethyl)amino)-', '2-Hmae', 'methanol-ethanolamine', 'ACMC-209npn', 'N-(Hydroxymethyl)ethanolamine', 'CHEMBL2000638', 'DTXSID5047532', '2-[(Hydroxymethyl)amino]-ethanol', 'ZINC1612596', 'ANW-35001', 'MFCD00128999', 'NSC614809', 'AKOS006352852', 'NSC-614809', 'NCI60_004953', '2-[(Hydroxymethyl)amino]ethanol, AldrichCPR', 'FT-0610840', 'FT-0691506', 'W-110845', 'Q26841282']}]}}, {'InformationList': {'Information': [{'CID': 446127, 'Synonym': ['3-Phenyl-1,2-Propandiol', '(2S)-3-phenylpropane-1,2-diol', '61475-32-9', 'UNII-6PQ7U3G5W6', '6PQ7U3G5W6', '(S)-3-phenylpropane-1,2-diol', 'SCHEMBL2211027', 'DTXSID00332212', '(-)-3-Phenylpropane-1,2-diol', '(2S)-3-Phenyl-1,2-propanediol', 'ZINC3581280', '(S)-1,2-dihydroxy-3-phenyl-propane', '(2S)-2-Hydroxy-3-phenyl-1-propanol', '1,2-Propanediol, 3-phenyl-, (2S)', 'DB02803', 'A1-22505', 'Q27093754']}]}}, {'InformationList': {'Information': [{'CID': 21088, 'Synonym': ['N-(3-Aminopropyl)diethanolamine', '4985-85-7', '(3-Aminopropyl)diethanolamine', 'Aminopropyldiethanolamine', \"2,2'-[(3-Aminopropyl)imino]diethanol\", \"Ethanol, 2,2'-[(3-aminopropyl)imino]bis-\", 'N,N-Bis(2-hydroxyethyl)-1,3-diaminopropane', 'UNII-R21ZI8N14B', '2-[3-aminopropyl(2-hydroxyethyl)amino]ethanol', 'N,N-Bis(2-hydroxyethyl)-1,3-propanediamine', 'NSC 8172', \"Ethanol, 2,2'-(aminopropylimino)-\", \"2,2'-((3-Aminopropyl)imino)diethanol\", 'N,N-Bis(hydroxyethyl)trimethylenediamine', 'N,N-Bis(hydroxyethyl)-1,3-propanediamine', 'N,N-Bis[(hydroxyethyl)trimethylene]diamine', 'R21ZI8N14B', 'N,N-Di(2-hydroxyethyl)-1,3-propanediamine', '2-[(3-aminopropyl)-(2-hydroxyethyl)amino]-ethanol', '2-[(3-Amino-propyl)-(2-hydroxy-ethyl)-amino]-ethanol', \"2,2'-(3-aminopropylazanediyl)diethanol\", \"Ethanol, 2,2'-((3-aminopropyl)imino)bis-\", 'N-(3-Aminopropyl)iminodiethanol', '2-[(3-aminopropyl)(2-hydroxyethyl)amino]ethan-1-ol', 'Aminopropyldiethanolamine (DOT)', 'EINECS 225-642-0', 'MFCD00047971', 'PubChem21021', 'ACMC-209kin', 'AI3-52554', 'diethanolamino propylamine', 'EC 225-642-0', 'DI-N-DODECYLSULFOXIDE', 'DSSTox_CID_24680', 'DSSTox_RID_80392', 'DSSTox_GSID_44680', 'WLN: Z3N2Q2Q', 'SCHEMBL352467', 'CHEMBL3186851', 'DTXSID2044680', \"Ethanol,2'-(aminopropylimino)-\", 'N-(3-amino-propyl)diethanolamine', 'n-(3-aminopropyl) diethanolamine', 'NSC8172', 'bis(2-hydroxyethyl)aminopropylamine', 'ALBB-014132', 'NSC-8172', 'ZINC1586448', 'Tox21_301510', \"2,2'-(3-Aminopropylimino)diethanol\", 'ANW-30861', 'BBL009740', 'SBB010437', 'STK796823', 'AKOS000301248', 'FS-5382', 'MCULE-1292608437', 'VZ32919', 'WT82149', \"Ethanol,2'-[(3-aminopropyl)imino]di-\", '3-[bis(2-hydroxyethyl)amino]propylamine', \"Ethanol,2'-[(3-aminopropyl)imino]bis-\", 'NCGC00256274-01', 'BP-13041', \"2,2'-((3-aminopropyl)azanediyl)diethanol\", 'CAS-4985-85-7', 'n n-bis[(hydroxyethyl)trimethylene]diamine', '3-[bis(2-hydroxy-ethyl)amino]-propylamine', 'DB-030073', \"Ethanol, 2,2'-((3-aminopropyl)imino)di-\", 'A1280', 'FT-0629167', 'n n-bis(2-hydroxyethyl)-1 3-propanediamine', 'R1796', 'ST45028934', 'X7920', 'N1,N1-bis(2-hydroxyethyl)-1,3-propanediamine', \"Ethanol, 2,2'-((3-aminopropyl)imino)di- (8CI)\", 'Q27287690']}]}}, {'InformationList': {'Information': [{'CID': 12503, 'Synonym': ['(3-Bromopropyl)benzene', '637-59-2', '1-BROMO-3-PHENYLPROPANE', '3-Phenylpropyl bromide', '3-Bromo-1-phenylpropane', 'Benzene, (3-bromopropyl)-', '3-bromopropylbenzene', '(3-Bromoprop-1-yl)benzene', '4-bromopropylbenzene', 'Benzene, bromopropyl-', 'UNII-6VX623QN9V', 'MFCD00000257', '(.gamma.-Bromopropyl)benzene', 'Hydrocinnamyl bromide', '1-Phenyl-3-bromopropane', 'NSC 133438', '6VX623QN9V', '1-Bromo-3-phenylpropane, 98%', 'OTAVA-BB 1275152', 'Ethyl, 1-(bromomethyl)-2-phenyl-', '(gamma-Bromopropyl)benzene', 'phenylpropylbromide', '3-phenylbromopropane', 'EINECS 211-294-7', 'NSC133438', '3-phenylpropylbromide', '3-phenylpropylbromine', 'PubChem3832', '3-bromanylpropylbenzene', '3-phenyl propylbromide', '1bromo-3-phenylpropane', '3-bromo-propyl-benzene', '1-brom-3-phenylpropane', '3-(phenyl)propylbromide', '3-phenyl-propyl bromide', 'l-bromo-3-phenylpropane', '(3-bromopropyl) benzene', '(3-bromopropyl)-benzene', '1-bromo-3 phenylpropane', '3-Phenyl-1-bromopropane', '3-phenyl-1-propylbromide', '(3-bromo-propyl)-benzene', '1-(3-bromopropyl)benzene', '1-(bromo-propyl)-benzene', '1-bromo-3-phenyl-propane', 'EC 211-294-7', '1-bromo -3-phenyl propane', 'ACMC-1B9K1', '.gamma.-Phenylpropyl bromide', 'SCHEMBL81831', 'ETH033', 'CHEMBL4203225', 'DTXSID1060924', 'TIMTEC-BB SBB008835', '1-BROMO-3-PHENYL PROPANE', 'STR03824', 'ZINC1720163', 'ANW-34722', 'BBL027292', 'SBB008835', 'STL373485', 'ZYLEXA-PHARM ZP-TV002117', 'AKOS000120756', 'AS03468', 'MCULE-2999027073', 'NSC-133438', 'BC002628', 'BP-30042', 'SY046253', 'B1237', 'FT-0604700', 'A834512', 'W-109586', 'Q27265606', 'F0001-1731', '3-BROMOPROPYL-BENZENE  (1-PHENYL,3-BROMOPROPANE)', '253128-99-3']}]}}, {'InformationList': {'Information': [{'CID': 62449, 'Synonym': ['3-Chloropropyltrimethoxysilane', '2530-87-2', '(3-Chloropropyl)trimethoxysilane', 'Silane, (3-chloropropyl)trimethoxy-', '3-chloropropyl(trimethoxy)silane', '3-Chloropropyltrimethyoxysilane', 'Sila-Ace S 620', 'CPS-M', '(3-Chloropropyl)trimethoxysilan', 'Silane (3-chloropropyl)tris(methoxy)-', 'KBM 703', 'Chloropropyltrimethoxysilane', '3-(Trimethoxysilyl)propyl chloride', 'UNII-T21BNL1S7F', 'A 143', 'NSC 83878', 'Z 6076', 'SH 6076', '3-Chloropropyl trimethoxysilane', 'CPTMO', '3-Trimethoxysilylpropyl Chloride', 'gamma-Chloropropyltrimethoxysilane', 'Silane, (chloropropyl)trimethoxy-', 'MFCD00000997', 'T21BNL1S7F', '3-trimethoxysilylpropylchloride', '3-chloropropyl-trimethoxysilane', '3-chloropropyltrimethoxy silane', 'gamma-Chloropropyl trimethoxysilane', '.gamma.-Chloropropyltrimethoxysilane', '(3-Chloropropyl)trimethoxysilane, 98+%', 'Trimethoxy(3-chloropropyl)silane', '(gamma-Chloropropyl)trimethoxysilane', 'C6H15ClO3Si', 'EINECS 219-787-9', 'Dynasylan CPTMO', 'Petrarch C3300', 'Dow corning Z-6076', 'DSSTox_CID_7490', 'ACMC-209gj3', 'EC 219-787-9', 'chloropropyl trimethoxysilane', 'chloropropyltrimethoxy-silane', 'DSSTox_RID_78470', 'NCIOpen2_001219', 'DSSTox_GSID_27490', 'SCHEMBL37352', 'trimethoxysilylpropyl chloride', '(CH3O)3Si(CH2)3Cl', 'Cl(CH2)3Si(OCH3)3', 'CHEMBL3184213', 'DTXSID4027490', 'Trimethoxy-3-chloropropyl silane', 'OXYZDRAJMHGSMW-UHFFFAOYSA-', '3-(chloropropyl)-trimethoxysilane', 'gama-chloropropyl trimethoxy silane', '(3-chloropropyl)(trimethoxy)silane', '3-chloranylpropyl(trimethoxy)silane', 'Trimethoxy-(3-chloropropyl) silane', '.delta.-Chloropropyltrimethoxysilane', 'NSC83878', '(3-chloro-propyl)-trimethoxy-silane', 'Tox21_200013', 'ANW-25693', 'CC3300', 'NSC-83878', '(.gamma.-Chloropropyl)trimethoxysilane', 'AKOS008901063', 'ZINC169743016', 'NCGC00248491-01', 'NCGC00257567-01', 'LS-13231', 'N133', '(3-Chloropropyl)trimethoxysilane, >=97%', 'CAS-2530-87-2', 'DB-046667', 'FT-0604706', 'C 3300', 'S04675', 'A817776', 'Q27289563']}]}}, {'InformationList': {'Information': [{'CID': 5365699, 'Synonym': ['(3Z)-Hex-3-en-1-yl methyl carbonate', '[(Z)-hex-3-enyl] methyl carbonate', '67633-96-9', '(Z)-Hex-3-en-1-yl methyl carbonate', 'CIS-3-HEXENYL METHYL CARBONATE', 'cis-Hex-3-en-1-yl methyl carbonate', 'UNII-WEC5YY1PGT', 'WEC5YY1PGT', 'Carbonic acid, 3-hexenyl methyl ester, (Z)-', 'cis-3-Hexenyl methoxy formate', 'SCHEMBL166677', 'DTXSID3052353', 'CHEBI:132845', '(3Z)-hex-3-enyl methyl carbonate', 'Carbonic acid (Z)-3-hexenyl=methyl', '(3Z)-3-Hexenyl methyl carbonate #', 'ZINC31351713', 'AKOS006275149', '633H969']}]}}, {'InformationList': {'Information': [{'CID': 2779224, 'Synonym': ['4-(Trifluoromethoxy)phenylurea', '82971-90-2', '(4-(Trifluoromethoxy)phenyl)urea', 'N-[4-(Trifluoromethoxy)phenyl]urea', '[4-(trifluoromethoxy)phenyl]urea', 'UNII-SQP4E8O29W', '1-(4-(Trifluoromethoxy)phenyl)urea', 'SQP4E8O29W', 'Urea, (4-(trifluoromethoxy)phenyl)-', 'Urea, N-(4-(trifluoromethoxy)phenyl)-', 'SCHEMBL169453', 'DTXSID50896798', 'ZINC2510752', '0249AF', 'KM2148', 'MFCD03788552', 'SBB095917', 'AKOS000155286', 'DB15610', 'MCULE-3915239278', '4-(trifluoromethoxy)phenylurea, AldrichCPR', 'amino-N-[4-(trifluoromethoxy)phenyl]amide', 'N-[4-(trifluoromethoxy)phenyl]urea,  95%', '9R-0371', 'Q27289347']}]}}, {'InformationList': {'Information': [{'CID': 5363289, 'Synonym': ['Oleyl acetate', '693-80-1', 'Acetic Acid Oleyl Ester', '[(Z)-octadec-9-enyl] acetate', '9Z-Octadecenyl acetate', 'UNII-EU1ETP025C', 'Acetic acid, 9-octadecenyl ester', '9-Octadecen-1-ol, acetate, (Z)-', '9-Octadecen-1-yl acetate', 'EU1ETP025C', '(9Z)-9-Octadecenyl acetate', '(Z)-9-Octadecen-1-ol acetate', 'MFCD00056326', 'Acetic acid, oleyl ester', 'Z-9-Octadecen-1-ol acetate', 'EINECS 211-759-4', 'AI3-33888', '(9Z)octadec-9-enyl acetate', 'SCHEMBL523908', 'Oleyl acetate, >=97% (GC)', '(Z)-octadec-9-en-1-yl acetate', 'CHEBI:134476', '(9Z)-octadec-9-en-1-yl acetate', 'LMFA07010389', 'ZINC59725366', 'AKOS024386327', 'A0934', 'ST51037390', 'Q27277361']}]}}, {'InformationList': {'Information': [{'CID': 6441454, 'Synonym': ['Osbond acid', '25182-74-5', 'all-cis-4,7,10,13,16-Docosapentaenoic acid', 'Docosapentaenoic acid (22n-6)', 'UNII-7S686LQT6T', '(All-Z)-4,7,10,13,16-docosapentaenoic acid', '4Z,7Z,10Z,13Z,16Z-docosapentaenoic acid', '(4Z,7Z,10Z,13Z,16Z)-docosa-4,7,10,13,16-pentaenoic acid', '7S686LQT6T', 'C22:5n-6,9,12,15,18', 'all-cis-docosa-4,7,10,13,16-pentaenoic acid', '22:5(4Z,7Z,10Z,13Z,16Z)', 'Docosa-4,7,10,13,16-pentaenoic acid', '4,7,10,13,16-Docasapentaenoic acid, (all-Z)', '4,7,10,13,16-Docosapentaenoic acid, (all-Z)-', 'SCHEMBL452175', 'CHEBI:65136', 'DTXSID60912352', 'LMFA04000064', 'ZINC33955138', 'DB14088', 'allcis-4,7,10,13,16-docosapentaenoic acid', 'J-015853', 'Q2823253', '4(Z),7(Z),10(Z),13(Z),16(Z)-Docosapentaenoic acid', 'UNII-F85N2YHE4E component AVKOENOBFIYBSA-WMPRHZDHSA-N', '4,7,10,13,16-Docosapentaenoicacid,(4Z,7Z,10Z,13Z,16Z)-', 'all-cis-4,7,10,13,16-Docosapentaenoic acid, analytical standard']}]}}, {'Fault': {'Code': 'PUGREST.NotFound', 'Message': 'No CID found', 'Details': ['No CID found that matches the given name']}}, {'InformationList': {'Information': [{'CID': 106249, 'Synonym': ['(Dibutylamino)methanol', 'Methanol, (dibutylamino)-', 'UNII-5I6MJ5HVZE', '67953-77-9', 'Methanol, 1-(dibutylamino)-', 'n,n-dibutylaminomethanol', '5I6MJ5HVZE', 'EINECS 267-957-6', '(N,N-dibutylamino)methanol', 'SCHEMBL1880050', 'DTXSID7029401', 'ZINC5821187', 'W-111310', 'Q27262295']}]}}, {'InformationList': {'Information': [{'CID': 21984, 'Synonym': ['(Ethylenedinitrilo)tetraacetonitrile', 'EDTN', '5766-67-6', 'Ethylenediaminetetraacetonitrile', 'ACETONITRILE, (ETHYLENEDINITRILO)TETRA-', 'UNII-P31690404G', \"Acetonitrile, 2,2',2'',2'''-(1,2-ethanediyldinitrilo)tetrakis-\", '2-[2-[bis(cyanomethyl)amino]ethyl-(cyanomethyl)amino]acetonitrile', 'C10H12N6', 'P31690404G', 'EINECS 227-290-3', 'NSC 49104', 'BRN 1711285', \"2,2',2'',2'''-(ethane-1,2-diyldinitrilo)tetraacetonitrile\", \"N,N,N',N'-Tetracyanomethylethylenediamine\", 'AI3-23663', \"N,N,N',N'-Tetracyanomethylaethylenediamin [German]\", \"N,N,N',N'-Tetracyanomethylaethylenediamin\", 'DSSTox_CID_7603', 'EC 227-290-3', 'DSSTox_RID_78526', 'DSSTox_GSID_27603', '4-04-00-02453 (Beilstein Handbook Reference)', 'SCHEMBL1997212', 'CHEMBL3183325', 'DTXSID9027603', 'NSC49104', 'WLN: NC1N1CN&2N1CN&1CN', 'Tox21_301865', '5685AF', 'NSC-49104', 'ZINC19366114', 'AKOS024332894', 'MCULE-2677155995', \"N,N',N'-Tetracyanomethylaethylenediamin\", \"N,N',N'-Tetracyanomethylethylenediamine\", 'Acetonitrile, (ethylenedi-nitrilo)tetra-', 'NCGC00255138-01', 'CAS-5766-67-6', 'DB-053078', 'FT-0635843', \"ETHYLENEDIAMINE-N,N,N',N'-TETRAACETONITRILE\", 'Q27286054', \"Acetonitrile,2',2'',2'''-(1,2-ethanediyldinitrilo)tetrakis-\", \"2,2',2'',2'''-(ethane-1,2-diylbis(azanetriyl))tetraacetonitrile\"]}]}}, {'InformationList': {'Information': [{'CID': 13865, 'Synonym': ['(p-Hydroxyphenyl)dimethylsulfonium chloride', '1005-35-2', 'UNII-33P1U651QS', 'Sulfonium, (4-hydroxyphenyl)dimethyl-, chloride', '(p-Hydroxyphenyl)dimethylsulphonium chloride', '33P1U651QS', '(4-HYDROXYPHENYL)DIMETHYLSULFONIUM CHLORIDE', 'Sulfonium, (4-hydroxyphenyl)dimethyl-, chloride (1:1)', 'HSDB 5777', 'EINECS 213-733-8', 'Sulfonium, (p-hydroxyphenyl)dimethyl-, chloride', 'DTXSID3061398', 'SCHEMBL11662665', 'NSC72052', 'NSC 72052', 'NSC-72052', 'AKOS024389322', 'MCULE-2600163363', '4-(1-methyl-1-thiaethyl)phenol, chloride', 'ST51043863', 'Q27256288']}]}}, {'Fault': {'Code': 'PUGREST.NotFound', 'Message': 'No CID found', 'Details': ['No CID found that matches the given name']}}, {'Fault': {'Code': 'PUGREST.NotFound', 'Message': 'No CID found', 'Details': ['No CID found that matches the given name']}}, {'Fault': {'Code': 'PUGREST.NotFound', 'Message': 'No CID found', 'Details': ['No CID found that matches the given name']}}, {'InformationList': {'Information': [{'CID': 22187, 'Synonym': ['5897-76-7', '2-amino-1-phenylbutan-1-ol', 'alpha-(alpha-Aminopropyl)benzyl alcohol', '1-Butanol,2-amino-1-phenyl', '2-Amino-1-phenyl-1-butanol', '2-AMINO-1-PHENYL-BUTANOL', 'USAF CS-7', '1-Butanol, 2-amino-1-phenyl-', 'beta-Amino-alpha-phenylbutyl alcohol', 'alpha-(1-Aminopropyl)benzenemethanol', 'NSC 41764', '1-Phenyl-1-hydroxy-2-amino-n-butane', 'Benzenemethanol, alpha-(1-aminopropyl)-', 'Benzenemethanol, .alpha.-(1-aminopropyl)-', 'Benzyl alcohol, .alpha.-(1-aminopropyl)-', 'BENZYL ALCOHOL, alpha-(1-AMINOPROPYL)-', 'SCHEMBL2838848', 'NSC41764', 'alpha-(1-Aminopropyl)benzyl alcohol', 'NSC-41764', '.alpha.-(.alpha.-Aminopropyl)benzyl alcohol', 'FT-0748346', 'Benzenemethanol, alpha-(1-aminopropyl)- (9CI)']}]}}, {'Fault': {'Code': 'PUGREST.NotFound', 'Message': 'No CID found', 'Details': ['No CID found that matches the given name']}}, {'Fault': {'Code': 'PUGREST.NotFound', 'Message': 'No CID found', 'Details': ['No CID found that matches the given name']}}, {'InformationList': {'Information': [{'CID': 5371723, 'Synonym': ['alpha-Amylcinnamyl acetate', 'Amyl cinnamic acetate', '[(2Z)-2-benzylideneheptyl] acetate', '(Z)-alpha-amylcinnamyl acetate', '1-Heptanol, 2-(phenylmethylene)-, acetate', 'alpha-Pentylcinnamyl acetate', 'alpha-Pentyl cinnamyl acetate', '2-Benzylidene-1-heptyl acetate', '2-(Phenylmethylene)heptyl acetate', '2-Benzylidene-1-heptanol acetate', 'alpha-Amyl-beta-phenylacryl acetate', 'alpha-n-Amyl-beta-phenylacryl acetate', '1-Heptanol, 2-benzylidene-, acetate', '2-(Phenylmethylene)-1-heptyl acetate', '2-(Phenylmethylene)-1-heptanol acetate', '1-Heptanol, 2-(phenylmethylene)-, 1-acetate', '7493-78-9', 'a-amylcinnamyl acetate', '1-Heptanol, 2-benzylidene-, acetate (8CI)', 'CINNAMYL ALCOHOL, alpha-PENTYL-, ACETATE', 'UNII-O06CCQ7I52', '.alpha.-Amylcinnamyl acetate', 'alpha-N-Amyl cinnamyl acetate', 'O06CCQ7I52', '.alpha.-Pentyl cinnamyl acetate', '.alpha.-N-Amyl cinnamyl acetate', 'FEMA 2064', 'CHEBI:172486', 'ZINC2165898', '2-Pentyl-3-phenyl-2-propenyl acetate', '(2Z)-2-(phenylmethylidene)heptyl acetate', '.alpha.-n-Amyl-.beta.-phenylacryl acetate', 'Cinnamyl alcohol, .alpha.-pentyl-, acetate', '(2Z)-2-Pentyl-3-phenyl-2-propenyl acetate', 'Q27285155', 'UNII-VMT186NL85 component CMJSVJIGLBDCME-VBKFSLOCSA-N']}]}}]\n"
          ]
        }
      ]
    },
    {
      "cell_type": "markdown",
      "metadata": {
        "id": "LFsVYqNeUzqc"
      },
      "source": [
        "3. Estos sinónimos deben ser clasificados de la siguiente manera: \n",
        "\n",
        "●  Identificadores -> puede comenzar con algunas letras, pero contiene en su mayoría números, las letras no son relativas al ingredientes, Ex: MLS000069733 \n",
        "\n",
        "●  Compuestos -> puede contener paréntesis, corchetes, números, que indican los compuestos del ingrediente, Ex: 4-Isobutyl-alpha-methylphenylacetic acid \n",
        "\n",
        "●  Traducciones -> contiene corchetes en los que indica el nombre del ingrediente en otro idioma, Ex: Ibuprofene [INN-French] \n",
        "\n",
        "● Ingrediente -> son aquellos que no están en las anteriores clasificaciones, pero tiene una relación con el ingrediente, Ex: Advil Liqui-Gels "
      ]
    },
    {
      "cell_type": "markdown",
      "metadata": {
        "id": "d2JrDEV3U8ql"
      },
      "source": [
        "4. Su limpieza, depende de su clasificación: \n",
        "\n",
        "● Identificadores -> debe quedar solo el número de su identificación, Ex: MLS000069733 = 000069733 \n",
        "\n",
        "● Compuestos -> debe quedar sin caracteres especiales, Ex: \n",
        "4-Isobutyl-alpha-methylphenylacetic acid = 4 Isobutyl alpha methylphenylacetic acid\n",
        "\n",
        "● Traducciones -> se debe quitar el contenido de los corchetes, Ex: Ibuprofene [INN-French] = Ibuprofene "
      ]
    },
    {
      "cell_type": "markdown",
      "metadata": {
        "id": "Xy2CGnRqvMsd"
      },
      "source": [
        "Se define una función para clasificar y realizar la limpieza de los datos con expresiones regulares."
      ]
    },
    {
      "cell_type": "code",
      "metadata": {
        "id": "_vvAPtZtvQcX"
      },
      "source": [
        "def clasificar(s):\n",
        "  \n",
        "  if re.match(r'^[a-zA-Z]+\\d+$', s):\n",
        "      clase='indicador'\n",
        "      valor=re.findall(r'\\d+', s)[0]\n",
        "\n",
        "  elif re.match(r'^[a-zA-Z]+ \\[.*\\]$', s):\n",
        "      clase='traducción'\n",
        "      valor= s.split(' [')[0]\n",
        "\n",
        "\n",
        "  elif re.match(r'^[\\(|\\[|\\d]+\\D+$', s):\n",
        "      clase='compuesto' \n",
        "      valor=re.sub(r'[\\(\\)\\-\\[\\]\\{\\}\\.\\,]',' ',s)\n",
        "\n",
        "  elif re.match(r'^[\\w]+\\D+$', s):\n",
        "      clase='ingrediente'\n",
        "      valor = re.sub(r'[\\(\\)\\-\\[\\]\\,\\.]',' ',s)\n",
        "\n",
        "\n",
        "  return [clase,valor]\n"
      ],
      "execution_count": 322,
      "outputs": []
    },
    {
      "cell_type": "markdown",
      "metadata": {
        "id": "5ggLA1w_vZNV"
      },
      "source": [
        "A continuación probamos la función de clasificación con los ejemplos:"
      ]
    },
    {
      "cell_type": "code",
      "metadata": {
        "colab": {
          "base_uri": "https://localhost:8080/"
        },
        "id": "V5YokPNrvZ5k",
        "outputId": "0b0d660b-93e8-4d6f-fb8c-0b580efd74f4"
      },
      "source": [
        "clasificar ('MLS000069733')"
      ],
      "execution_count": 323,
      "outputs": [
        {
          "output_type": "execute_result",
          "data": {
            "text/plain": [
              "['indicador', '000069733']"
            ]
          },
          "metadata": {},
          "execution_count": 323
        }
      ]
    },
    {
      "cell_type": "code",
      "metadata": {
        "colab": {
          "base_uri": "https://localhost:8080/"
        },
        "id": "SaHoLkPkvbaU",
        "outputId": "66ca3455-7f1a-4975-8c6a-68de62e890c2"
      },
      "source": [
        "clasificar('Ibuprofene [INN-French]')"
      ],
      "execution_count": 324,
      "outputs": [
        {
          "output_type": "execute_result",
          "data": {
            "text/plain": [
              "['traducción', 'Ibuprofene']"
            ]
          },
          "metadata": {},
          "execution_count": 324
        }
      ]
    },
    {
      "cell_type": "code",
      "metadata": {
        "colab": {
          "base_uri": "https://localhost:8080/"
        },
        "id": "het0zbqBwC8g",
        "outputId": "e3a71d3c-599a-4374-915e-eff1800cb80a"
      },
      "source": [
        "clasificar('(1-Cyanocyclohexyl)-acetic acid')"
      ],
      "execution_count": 325,
      "outputs": [
        {
          "output_type": "execute_result",
          "data": {
            "text/plain": [
              "['compuesto', ' 1 Cyanocyclohexyl  acetic acid']"
            ]
          },
          "metadata": {},
          "execution_count": 325
        }
      ]
    },
    {
      "cell_type": "code",
      "metadata": {
        "colab": {
          "base_uri": "https://localhost:8080/"
        },
        "id": "n9PHr3R9wWKc",
        "outputId": "b01055e3-420d-4de5-edb4-26a45594d1da"
      },
      "source": [
        "clasificar('Advil Liqui-Gels')"
      ],
      "execution_count": 326,
      "outputs": [
        {
          "output_type": "execute_result",
          "data": {
            "text/plain": [
              "['ingrediente', 'Advil Liqui Gels']"
            ]
          },
          "metadata": {},
          "execution_count": 326
        }
      ]
    },
    {
      "cell_type": "markdown",
      "metadata": {
        "id": "nBXoaDZnsaCo"
      },
      "source": [
        "5. Debe construir un modelo SQL que nos ayude a tener un mejor desempeño. Por favor adjunte el script SQL (Se adjunta en el Git)"
      ]
    },
    {
      "cell_type": "markdown",
      "metadata": {
        "id": "Q5721SVPZoT_"
      },
      "source": [
        "6. Los datos de los ingredientes, sus sinónimos, clasificaciones y limpiezas deben ser cargados en este modelo, tenga en cuenta que será una tarea recurrente, escoja la mejor solución."
      ]
    },
    {
      "cell_type": "markdown",
      "metadata": {
        "id": "uAHboCVmzAWd"
      },
      "source": [
        "####Clasifiación"
      ]
    },
    {
      "cell_type": "code",
      "metadata": {
        "id": "aSJ3XxywwnVM"
      },
      "source": [
        "lista_indicador =[]\n",
        "lista_traduccion =[]\n",
        "lista_compuesto =[]\n",
        "lista_ingrediente_sinonimo =[]\n",
        "\n",
        "for lst in datos_sinonimos:\n",
        "    try:\n",
        "        for sinonimo in lst['InformationList']['Information'][0]['Synonym']:\n",
        "\n",
        "            if (clasificar(sinonimo))[0]=='indicador':\n",
        "                lista_indicador.append(clasificar(sinonimo)[1])\n",
        "\n",
        "            elif (clasificar(sinonimo))[0]=='traducción':\n",
        "                lista_traduccion.append(clasificar(sinonimo)[1])\n",
        "\n",
        "            elif (clasificar(sinonimo))[0]=='compuesto':\n",
        "                lista_compuesto.append(clasificar(sinonimo)[1])\n",
        "\n",
        "            elif (clasificar(sinonimo))[0]=='ingrediente':\n",
        "                lista_ingrediente_sinonimo.append(clasificar(sinonimo)[1])\n",
        "            \n",
        "        \n",
        "    except:\n",
        "        continue\n"
      ],
      "execution_count": 327,
      "outputs": []
    },
    {
      "cell_type": "code",
      "metadata": {
        "colab": {
          "base_uri": "https://localhost:8080/"
        },
        "id": "1gMi4MtyUIrh",
        "outputId": "02026f54-0921-4f3c-8752-905d5d100e7d"
      },
      "source": [
        "print(lista_indicador)"
      ],
      "execution_count": 328,
      "outputs": [
        {
          "output_type": "stream",
          "name": "stdout",
          "text": [
            "['942690', '144673', '400', '497001', '27281064', '3', '1200706', '2036405', '27275662', '9717201', '401014240', '104', '207', '20556367', '27293196', '00149613', '3666', '101', '14663410', '10788', '378', '015899605', '30988741', '024350585', '85562417', '27293594', '07549', '818', '49244', '126518', '3299031', '3058321', '27254647', '27271394', '2', '11197', '1191', '5572303', '905673', '14035818', '3899231', '4118441', '423846', '27279034', '81047', '3291398', '27266252', '2211', '104', '161239', '17096041', '0010', '27280732', '00011109', '50973073', '70894993', '754952', '2', '00003463', '461', '1201235', '412', '7364', '10142864', '121175', '2912822', '12518166', '27283332', '2', '10', '130', '333328', '699', '60444', '054828', '1091256', '50410807', '00781', '807660', '00156359', '152846', '2104433', '22389514', '228', '9535', '2146115', '001333570', '000875281', '6218', '1230373']\n"
          ]
        }
      ]
    },
    {
      "cell_type": "code",
      "metadata": {
        "colab": {
          "base_uri": "https://localhost:8080/",
          "height": 422
        },
        "id": "pgqM0sknWpAV",
        "outputId": "15a8e074-db42-4532-936b-d8e62dffbe96"
      },
      "source": [
        "df_indicador = pd.DataFrame(lista_indicador, columns=['Indicador'])\n",
        "df_indicador"
      ],
      "execution_count": 330,
      "outputs": [
        {
          "output_type": "execute_result",
          "data": {
            "text/html": [
              "<div>\n",
              "<style scoped>\n",
              "    .dataframe tbody tr th:only-of-type {\n",
              "        vertical-align: middle;\n",
              "    }\n",
              "\n",
              "    .dataframe tbody tr th {\n",
              "        vertical-align: top;\n",
              "    }\n",
              "\n",
              "    .dataframe thead th {\n",
              "        text-align: right;\n",
              "    }\n",
              "</style>\n",
              "<table border=\"1\" class=\"dataframe\">\n",
              "  <thead>\n",
              "    <tr style=\"text-align: right;\">\n",
              "      <th></th>\n",
              "      <th>Indicador</th>\n",
              "    </tr>\n",
              "  </thead>\n",
              "  <tbody>\n",
              "    <tr>\n",
              "      <th>0</th>\n",
              "      <td>942690</td>\n",
              "    </tr>\n",
              "    <tr>\n",
              "      <th>1</th>\n",
              "      <td>144673</td>\n",
              "    </tr>\n",
              "    <tr>\n",
              "      <th>2</th>\n",
              "      <td>400</td>\n",
              "    </tr>\n",
              "    <tr>\n",
              "      <th>3</th>\n",
              "      <td>497001</td>\n",
              "    </tr>\n",
              "    <tr>\n",
              "      <th>4</th>\n",
              "      <td>27281064</td>\n",
              "    </tr>\n",
              "    <tr>\n",
              "      <th>...</th>\n",
              "      <td>...</td>\n",
              "    </tr>\n",
              "    <tr>\n",
              "      <th>85</th>\n",
              "      <td>2146115</td>\n",
              "    </tr>\n",
              "    <tr>\n",
              "      <th>86</th>\n",
              "      <td>001333570</td>\n",
              "    </tr>\n",
              "    <tr>\n",
              "      <th>87</th>\n",
              "      <td>000875281</td>\n",
              "    </tr>\n",
              "    <tr>\n",
              "      <th>88</th>\n",
              "      <td>6218</td>\n",
              "    </tr>\n",
              "    <tr>\n",
              "      <th>89</th>\n",
              "      <td>1230373</td>\n",
              "    </tr>\n",
              "  </tbody>\n",
              "</table>\n",
              "<p>90 rows × 1 columns</p>\n",
              "</div>"
            ],
            "text/plain": [
              "    Indicador\n",
              "0      942690\n",
              "1      144673\n",
              "2         400\n",
              "3      497001\n",
              "4    27281064\n",
              "..        ...\n",
              "85    2146115\n",
              "86  001333570\n",
              "87  000875281\n",
              "88       6218\n",
              "89    1230373\n",
              "\n",
              "[90 rows x 1 columns]"
            ]
          },
          "metadata": {},
          "execution_count": 330
        }
      ]
    },
    {
      "cell_type": "code",
      "metadata": {
        "colab": {
          "base_uri": "https://localhost:8080/"
        },
        "id": "nU1oJdSKUQSV",
        "outputId": "c340d87d-6c05-4ade-c7e8-5fa6317116e4"
      },
      "source": [
        "print(lista_compuesto[:50])"
      ],
      "execution_count": 331,
      "outputs": [
        {
          "output_type": "stream",
          "name": "stdout",
          "text": [
            "['    Ambroxide', ' 2 Carbethoxyethyl diethoxy methyl silane', ' 2 Carbethoxyethyl triethoxysilane', '2   hydroxymethyl amino ethanol', ' 3 Bromopropyl benzene', '3 Chloropropyltrimethoxysilane', '4  Trifluoromethoxy phenylurea', ' Dibutylamino methanol', ' Ethylenedinitrilo tetraacetonitrile', ' p Hydroxyphenyl dimethylsulfonium chloride', '8 Damascone', ' +  delta Tocopherol', '8 Methyltocol', '2 Hydroxypropyl benzoate', '4 Hydroxybutyl stearate', '6 Paradol', '1 BUTENE', '1 DECENE', '1 EICOSENE', '1 Hexadecene', '1 Methylhydantoin', '1 NAPHTHALENESULFONIC ACID', '1 NAPHTHOL', '1 o tetradecylglycerol', '1 Octacosanol', '1 octanol', '1 Phenylethanol', '1 propanol', '1 Tetracosanol', '10 Hydroxydecanoic acid', '10 Hydroxystearic acid', '10 Undecenal', '12R HEPE', '12 hydroxyoctadecanoate', '12 hydroxystearate', '12 hydroxystearic acid anion', '12 Oxooctadecanoic acid', '16 METHYLHEPTADECANOIC ACID', '17ALPHA HYDROXYPROGESTERONE', '17 Hydroxyprogesterone', '17 Hydroxystearic acid', '17 hydroxyoctadecanoic acid', '17 hydroxy stearic acid', '17 hydroxy octadecanoic acid', \"2' Hydroxyacetophenone\", '2  Dibutylamino ethyl methacrylate', '2  Dipropylamino ethanol', '2  l Menthoxy ethanol', '2  Methylamino ethanol', '2 Acetylnaphthalene']\n"
          ]
        }
      ]
    },
    {
      "cell_type": "code",
      "metadata": {
        "colab": {
          "base_uri": "https://localhost:8080/",
          "height": 422
        },
        "id": "UiKnFNm1XzD8",
        "outputId": "1b90b934-d68b-4dc5-8a42-9b336cff7d5b"
      },
      "source": [
        "df_compuesto = pd.DataFrame(lista_compuesto, columns=['Compuesto'])\n",
        "df_compuesto = df_compuesto.rename_axis('Compuesto_Id').reset_index()\n",
        "df_compuesto"
      ],
      "execution_count": 344,
      "outputs": [
        {
          "output_type": "execute_result",
          "data": {
            "text/html": [
              "<div>\n",
              "<style scoped>\n",
              "    .dataframe tbody tr th:only-of-type {\n",
              "        vertical-align: middle;\n",
              "    }\n",
              "\n",
              "    .dataframe tbody tr th {\n",
              "        vertical-align: top;\n",
              "    }\n",
              "\n",
              "    .dataframe thead th {\n",
              "        text-align: right;\n",
              "    }\n",
              "</style>\n",
              "<table border=\"1\" class=\"dataframe\">\n",
              "  <thead>\n",
              "    <tr style=\"text-align: right;\">\n",
              "      <th></th>\n",
              "      <th>Compuesto_Id</th>\n",
              "      <th>Compuesto</th>\n",
              "    </tr>\n",
              "  </thead>\n",
              "  <tbody>\n",
              "    <tr>\n",
              "      <th>0</th>\n",
              "      <td>0</td>\n",
              "      <td>Ambroxide</td>\n",
              "    </tr>\n",
              "    <tr>\n",
              "      <th>1</th>\n",
              "      <td>1</td>\n",
              "      <td>2 Carbethoxyethyl diethoxy methyl silane</td>\n",
              "    </tr>\n",
              "    <tr>\n",
              "      <th>2</th>\n",
              "      <td>2</td>\n",
              "      <td>2 Carbethoxyethyl triethoxysilane</td>\n",
              "    </tr>\n",
              "    <tr>\n",
              "      <th>3</th>\n",
              "      <td>3</td>\n",
              "      <td>2   hydroxymethyl amino ethanol</td>\n",
              "    </tr>\n",
              "    <tr>\n",
              "      <th>4</th>\n",
              "      <td>4</td>\n",
              "      <td>3 Bromopropyl benzene</td>\n",
              "    </tr>\n",
              "    <tr>\n",
              "      <th>...</th>\n",
              "      <td>...</td>\n",
              "      <td>...</td>\n",
              "    </tr>\n",
              "    <tr>\n",
              "      <th>595</th>\n",
              "      <td>595</td>\n",
              "      <td>2 Propylpentanoic acid</td>\n",
              "    </tr>\n",
              "    <tr>\n",
              "      <th>596</th>\n",
              "      <td>596</td>\n",
              "      <td>Eburnamonine</td>\n",
              "    </tr>\n",
              "    <tr>\n",
              "      <th>597</th>\n",
              "      <td>597</td>\n",
              "      <td>22 Oxovincaleukoblastine</td>\n",
              "    </tr>\n",
              "    <tr>\n",
              "      <th>598</th>\n",
              "      <td>598</td>\n",
              "      <td>+  Viridiflorol</td>\n",
              "    </tr>\n",
              "    <tr>\n",
              "      <th>599</th>\n",
              "      <td>599</td>\n",
              "      <td>R S  Zeaxanthin</td>\n",
              "    </tr>\n",
              "  </tbody>\n",
              "</table>\n",
              "<p>600 rows × 2 columns</p>\n",
              "</div>"
            ],
            "text/plain": [
              "     Compuesto_Id                                  Compuesto\n",
              "0               0                                  Ambroxide\n",
              "1               1   2 Carbethoxyethyl diethoxy methyl silane\n",
              "2               2          2 Carbethoxyethyl triethoxysilane\n",
              "3               3            2   hydroxymethyl amino ethanol\n",
              "4               4                      3 Bromopropyl benzene\n",
              "..            ...                                        ...\n",
              "595           595                     2 Propylpentanoic acid\n",
              "596           596                               Eburnamonine\n",
              "597           597                   22 Oxovincaleukoblastine\n",
              "598           598                            +  Viridiflorol\n",
              "599           599                            R S  Zeaxanthin\n",
              "\n",
              "[600 rows x 2 columns]"
            ]
          },
          "metadata": {},
          "execution_count": 344
        }
      ]
    },
    {
      "cell_type": "code",
      "metadata": {
        "id": "XU63FoCORIsC",
        "colab": {
          "base_uri": "https://localhost:8080/"
        },
        "outputId": "faee19ed-dfb3-4528-86e3-7da3dbd84a77"
      },
      "source": [
        "print(lista_traduccion)"
      ],
      "execution_count": 345,
      "outputs": [
        {
          "output_type": "stream",
          "name": "stdout",
          "text": [
            "['Alatrofloxacin', 'Aldioxum', 'Amylocaine', 'Bambermycine', 'Bambermycinum', 'Bambermicina', 'Bambermycin', 'Barbexaclone', 'Boroglycerin', 'Buprenorfina', 'Buprenorphinum', 'Casanthranol', 'Cefepimum', 'Cefepima', 'Cetiedilum', 'Enclomiphene', 'Dantrolenum', 'Dantroleno', 'Dihexyverine', 'Elapegademase', 'Guaietolin', 'Halazepamum', 'Idrocodone', 'Levocabastinum', 'Levocabastina', 'Methorfinan', 'Levorfanolo', 'Mangafodipir', 'Bruinsteen', 'Braunstein', 'Mangandioxid', 'Mangaanbioxyde', 'Mangaandioxyde', 'Melarsomine', 'Metaraminolum', 'Acetilmetadol', 'Acetylmethadolum', 'Methyprylone', 'Methyprylonum', 'Metiprilona', 'Nifurzide', 'Nusinersen', 'Omoconazole', 'Orgotein', 'Orgotein', 'Orgotein', 'Orgotein', 'Orgotein', 'Orgotein', 'Methocidine', 'Methocidinum', 'Metocidina', 'Pegvaliase', 'Pergolidum', 'Pergolida', 'Profenamina', 'Ritodrina', 'Ritodrinium', 'Calcitonine', 'Calcitoninum', 'Secretine', 'Secretinum', 'Secretina', 'Sitosterols', 'Sucralfatum', 'Sucralfato', 'Tocophersolan', 'Tocofersolan']\n"
          ]
        }
      ]
    },
    {
      "cell_type": "code",
      "metadata": {
        "colab": {
          "base_uri": "https://localhost:8080/",
          "height": 422
        },
        "id": "VzALbg-IVkW3",
        "outputId": "58dbfbb1-370d-4ae8-cc35-9f63eeb813d9"
      },
      "source": [
        "df_traduccion = pd.DataFrame(lista_traduccion,columns=['Traduccion'])\n",
        "df_traduccion = df_traduccion.rename_axis('Traduccion_Id').reset_index()\n",
        "df_traduccion.duplicated()\n",
        "df_traduccion\n"
      ],
      "execution_count": 346,
      "outputs": [
        {
          "output_type": "execute_result",
          "data": {
            "text/html": [
              "<div>\n",
              "<style scoped>\n",
              "    .dataframe tbody tr th:only-of-type {\n",
              "        vertical-align: middle;\n",
              "    }\n",
              "\n",
              "    .dataframe tbody tr th {\n",
              "        vertical-align: top;\n",
              "    }\n",
              "\n",
              "    .dataframe thead th {\n",
              "        text-align: right;\n",
              "    }\n",
              "</style>\n",
              "<table border=\"1\" class=\"dataframe\">\n",
              "  <thead>\n",
              "    <tr style=\"text-align: right;\">\n",
              "      <th></th>\n",
              "      <th>Traduccion_Id</th>\n",
              "      <th>Traduccion</th>\n",
              "    </tr>\n",
              "  </thead>\n",
              "  <tbody>\n",
              "    <tr>\n",
              "      <th>0</th>\n",
              "      <td>0</td>\n",
              "      <td>Alatrofloxacin</td>\n",
              "    </tr>\n",
              "    <tr>\n",
              "      <th>1</th>\n",
              "      <td>1</td>\n",
              "      <td>Aldioxum</td>\n",
              "    </tr>\n",
              "    <tr>\n",
              "      <th>2</th>\n",
              "      <td>2</td>\n",
              "      <td>Amylocaine</td>\n",
              "    </tr>\n",
              "    <tr>\n",
              "      <th>3</th>\n",
              "      <td>3</td>\n",
              "      <td>Bambermycine</td>\n",
              "    </tr>\n",
              "    <tr>\n",
              "      <th>4</th>\n",
              "      <td>4</td>\n",
              "      <td>Bambermycinum</td>\n",
              "    </tr>\n",
              "    <tr>\n",
              "      <th>...</th>\n",
              "      <td>...</td>\n",
              "      <td>...</td>\n",
              "    </tr>\n",
              "    <tr>\n",
              "      <th>63</th>\n",
              "      <td>63</td>\n",
              "      <td>Sitosterols</td>\n",
              "    </tr>\n",
              "    <tr>\n",
              "      <th>64</th>\n",
              "      <td>64</td>\n",
              "      <td>Sucralfatum</td>\n",
              "    </tr>\n",
              "    <tr>\n",
              "      <th>65</th>\n",
              "      <td>65</td>\n",
              "      <td>Sucralfato</td>\n",
              "    </tr>\n",
              "    <tr>\n",
              "      <th>66</th>\n",
              "      <td>66</td>\n",
              "      <td>Tocophersolan</td>\n",
              "    </tr>\n",
              "    <tr>\n",
              "      <th>67</th>\n",
              "      <td>67</td>\n",
              "      <td>Tocofersolan</td>\n",
              "    </tr>\n",
              "  </tbody>\n",
              "</table>\n",
              "<p>68 rows × 2 columns</p>\n",
              "</div>"
            ],
            "text/plain": [
              "    Traduccion_Id      Traduccion\n",
              "0               0  Alatrofloxacin\n",
              "1               1        Aldioxum\n",
              "2               2      Amylocaine\n",
              "3               3    Bambermycine\n",
              "4               4   Bambermycinum\n",
              "..            ...             ...\n",
              "63             63     Sitosterols\n",
              "64             64     Sucralfatum\n",
              "65             65      Sucralfato\n",
              "66             66   Tocophersolan\n",
              "67             67    Tocofersolan\n",
              "\n",
              "[68 rows x 2 columns]"
            ]
          },
          "metadata": {},
          "execution_count": 346
        }
      ]
    },
    {
      "cell_type": "code",
      "metadata": {
        "colab": {
          "base_uri": "https://localhost:8080/",
          "height": 422
        },
        "id": "iDcRUDkrqe8C",
        "outputId": "f2ac86c7-6a8b-4983-a140-b68b31c5379e"
      },
      "source": [
        "df_sinonimo_ingrediente = pd.DataFrame(lista_ingrediente_sinonimo,columns=['Ingrediente_Sinonimo'])\n",
        "df_sinonimo_ingrediente = df_sinonimo_ingrediente.rename_axis('Ingrediente_Sinonimo_Id').reset_index()\n",
        "df_sinonimo_ingrediente.duplicated()\n",
        "df_sinonimo_ingrediente"
      ],
      "execution_count": 349,
      "outputs": [
        {
          "output_type": "execute_result",
          "data": {
            "text/html": [
              "<div>\n",
              "<style scoped>\n",
              "    .dataframe tbody tr th:only-of-type {\n",
              "        vertical-align: middle;\n",
              "    }\n",
              "\n",
              "    .dataframe tbody tr th {\n",
              "        vertical-align: top;\n",
              "    }\n",
              "\n",
              "    .dataframe thead th {\n",
              "        text-align: right;\n",
              "    }\n",
              "</style>\n",
              "<table border=\"1\" class=\"dataframe\">\n",
              "  <thead>\n",
              "    <tr style=\"text-align: right;\">\n",
              "      <th></th>\n",
              "      <th>Ingrediente_Sinonimo_Id</th>\n",
              "      <th>Ingrediente_Sinonimo</th>\n",
              "    </tr>\n",
              "  </thead>\n",
              "  <tbody>\n",
              "    <tr>\n",
              "      <th>0</th>\n",
              "      <td>0</td>\n",
              "      <td>tert Butylurea</td>\n",
              "    </tr>\n",
              "    <tr>\n",
              "      <th>1</th>\n",
              "      <td>1</td>\n",
              "      <td>N tert Butylurea</td>\n",
              "    </tr>\n",
              "    <tr>\n",
              "      <th>2</th>\n",
              "      <td>2</td>\n",
              "      <td>Oleyl acetate</td>\n",
              "    </tr>\n",
              "    <tr>\n",
              "      <th>3</th>\n",
              "      <td>3</td>\n",
              "      <td>Osbond acid</td>\n",
              "    </tr>\n",
              "    <tr>\n",
              "      <th>4</th>\n",
              "      <td>4</td>\n",
              "      <td>Methanol   dibutylamino</td>\n",
              "    </tr>\n",
              "    <tr>\n",
              "      <th>...</th>\n",
              "      <td>...</td>\n",
              "      <td>...</td>\n",
              "    </tr>\n",
              "    <tr>\n",
              "      <th>9449</th>\n",
              "      <td>9449</td>\n",
              "      <td>zomepirac</td>\n",
              "    </tr>\n",
              "    <tr>\n",
              "      <th>9450</th>\n",
              "      <td>9450</td>\n",
              "      <td>zonisamide</td>\n",
              "    </tr>\n",
              "    <tr>\n",
              "      <th>9451</th>\n",
              "      <td>9451</td>\n",
              "      <td>zopiclone</td>\n",
              "    </tr>\n",
              "    <tr>\n",
              "      <th>9452</th>\n",
              "      <td>9452</td>\n",
              "      <td>zotepine</td>\n",
              "    </tr>\n",
              "    <tr>\n",
              "      <th>9453</th>\n",
              "      <td>9453</td>\n",
              "      <td>Zuclopenthixol</td>\n",
              "    </tr>\n",
              "  </tbody>\n",
              "</table>\n",
              "<p>9454 rows × 2 columns</p>\n",
              "</div>"
            ],
            "text/plain": [
              "      Ingrediente_Sinonimo_Id       Ingrediente_Sinonimo\n",
              "0                           0             tert Butylurea\n",
              "1                           1           N tert Butylurea\n",
              "2                           2              Oleyl acetate\n",
              "3                           3                Osbond acid\n",
              "4                           4  Methanol   dibutylamino  \n",
              "...                       ...                        ...\n",
              "9449                     9449                  zomepirac\n",
              "9450                     9450                 zonisamide\n",
              "9451                     9451                  zopiclone\n",
              "9452                     9452                   zotepine\n",
              "9453                     9453             Zuclopenthixol\n",
              "\n",
              "[9454 rows x 2 columns]"
            ]
          },
          "metadata": {},
          "execution_count": 349
        }
      ]
    },
    {
      "cell_type": "code",
      "metadata": {
        "colab": {
          "base_uri": "https://localhost:8080/",
          "height": 422
        },
        "id": "2htjTQR0tjnk",
        "outputId": "2b21ae65-b4d0-44da-d796-3ca4ba09a041"
      },
      "source": [
        "df_ingredientes = pd.DataFrame(lista_ingredientes,columns=['Ingrediente'])\n",
        "df_ingredientes = df_ingredientes.rename_axis('Ingrediente_Id').reset_index()\n",
        "df_ingredientes.duplicated()\n",
        "df_ingredientes"
      ],
      "execution_count": 350,
      "outputs": [
        {
          "output_type": "execute_result",
          "data": {
            "text/html": [
              "<div>\n",
              "<style scoped>\n",
              "    .dataframe tbody tr th:only-of-type {\n",
              "        vertical-align: middle;\n",
              "    }\n",
              "\n",
              "    .dataframe tbody tr th {\n",
              "        vertical-align: top;\n",
              "    }\n",
              "\n",
              "    .dataframe thead th {\n",
              "        text-align: right;\n",
              "    }\n",
              "</style>\n",
              "<table border=\"1\" class=\"dataframe\">\n",
              "  <thead>\n",
              "    <tr style=\"text-align: right;\">\n",
              "      <th></th>\n",
              "      <th>Ingrediente_Id</th>\n",
              "      <th>Ingrediente</th>\n",
              "    </tr>\n",
              "  </thead>\n",
              "  <tbody>\n",
              "    <tr>\n",
              "      <th>0</th>\n",
              "      <td>0</td>\n",
              "      <td>abacavir</td>\n",
              "    </tr>\n",
              "    <tr>\n",
              "      <th>1</th>\n",
              "      <td>1</td>\n",
              "      <td>abaloparatide</td>\n",
              "    </tr>\n",
              "    <tr>\n",
              "      <th>2</th>\n",
              "      <td>2</td>\n",
              "      <td>abarelix</td>\n",
              "    </tr>\n",
              "    <tr>\n",
              "      <th>3</th>\n",
              "      <td>3</td>\n",
              "      <td>abatacept</td>\n",
              "    </tr>\n",
              "    <tr>\n",
              "      <th>4</th>\n",
              "      <td>4</td>\n",
              "      <td>abciximab</td>\n",
              "    </tr>\n",
              "    <tr>\n",
              "      <th>...</th>\n",
              "      <td>...</td>\n",
              "      <td>...</td>\n",
              "    </tr>\n",
              "    <tr>\n",
              "      <th>8837</th>\n",
              "      <td>8837</td>\n",
              "      <td>zonisamide</td>\n",
              "    </tr>\n",
              "    <tr>\n",
              "      <th>8838</th>\n",
              "      <td>8838</td>\n",
              "      <td>zopiclone</td>\n",
              "    </tr>\n",
              "    <tr>\n",
              "      <th>8839</th>\n",
              "      <td>8839</td>\n",
              "      <td>zotepine</td>\n",
              "    </tr>\n",
              "    <tr>\n",
              "      <th>8840</th>\n",
              "      <td>8840</td>\n",
              "      <td>zucchini extract</td>\n",
              "    </tr>\n",
              "    <tr>\n",
              "      <th>8841</th>\n",
              "      <td>8841</td>\n",
              "      <td>zuclopenthixol</td>\n",
              "    </tr>\n",
              "  </tbody>\n",
              "</table>\n",
              "<p>8842 rows × 2 columns</p>\n",
              "</div>"
            ],
            "text/plain": [
              "      Ingrediente_Id       Ingrediente\n",
              "0                  0          abacavir\n",
              "1                  1     abaloparatide\n",
              "2                  2          abarelix\n",
              "3                  3         abatacept\n",
              "4                  4         abciximab\n",
              "...              ...               ...\n",
              "8837            8837        zonisamide\n",
              "8838            8838         zopiclone\n",
              "8839            8839          zotepine\n",
              "8840            8840  zucchini extract\n",
              "8841            8841    zuclopenthixol\n",
              "\n",
              "[8842 rows x 2 columns]"
            ]
          },
          "metadata": {},
          "execution_count": 350
        }
      ]
    }
  ]
}