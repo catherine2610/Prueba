{
  "nbformat": 4,
  "nbformat_minor": 0,
  "metadata": {
    "colab": {
      "name": "Prueba_Source_Meridian.ipynb",
      "provenance": [],
      "collapsed_sections": [],
      "authorship_tag": "ABX9TyN+PjCFfmefseXeLhEmBUZv",
      "include_colab_link": true
    },
    "kernelspec": {
      "display_name": "Python 3",
      "name": "python3"
    },
    "language_info": {
      "name": "python"
    }
  },
  "cells": [
    {
      "cell_type": "markdown",
      "metadata": {
        "id": "view-in-github",
        "colab_type": "text"
      },
      "source": [
        "<a href=\"https://colab.research.google.com/github/catherine2610/Prueba/blob/main/Prueba_Source_Meridian.ipynb\" target=\"_parent\"><img src=\"https://colab.research.google.com/assets/colab-badge.svg\" alt=\"Open In Colab\"/></a>"
      ]
    },
    {
      "cell_type": "markdown",
      "metadata": {
        "id": "CzHXIjVFREfh"
      },
      "source": [
        "#### PYTHON/API TECHNICAL TEST \n",
        "\n",
        "Las siguientes API, contienen ingredientes de los cuales se debe consumir los sinónimos y estos deben ser clasificados, limpiados y cargados a un modelo SQL. \n",
        "\n",
        "1. Consuma la siguiente API:\n",
        "\n",
        "```\n",
        "https://rxnav.nlm.nih.gov/REST/allconcepts.json?tty=IN\n",
        "```\n",
        "Esta le permite ver una lista de ingredientes médicos \n"
      ]
    },
    {
      "cell_type": "code",
      "metadata": {
        "colab": {
          "base_uri": "https://localhost:8080/"
        },
        "id": "q-KDsj4TrGhT",
        "outputId": "285cdd66-b516-4c9c-af3d-dc8d8d846b3d"
      },
      "source": [
        "import requests\n",
        "import json\n",
        "import re\n",
        "import pandas as pd\n",
        "\n",
        "url_ingredientes = 'https://rxnav.nlm.nih.gov/REST/allconcepts.json?tty=IN'  #configuramos la url\n",
        "\n",
        "#solicitamos la información y guardamos la respuesta en response_1.\n",
        "response_ingredientes = requests.get(url_ingredientes)  \n",
        "json_ingredientes = response_ingredientes.json()  #convertimos la respuesta en dict\n",
        "\n",
        "print(response_ingredientes)\n"
      ],
      "execution_count": 5,
      "outputs": [
        {
          "output_type": "stream",
          "name": "stdout",
          "text": [
            "<Response [200]>\n"
          ]
        }
      ]
    },
    {
      "cell_type": "code",
      "metadata": {
        "colab": {
          "base_uri": "https://localhost:8080/"
        },
        "id": "DnIo0dHx1zu5",
        "outputId": "53158c58-568d-4373-b41c-14f70876f4c8"
      },
      "source": [
        "lista_ingredientes = []\n",
        "\n",
        "for nombre_ingredientes in json_ingredientes[\"minConceptGroup\"]['minConcept']:\n",
        "\n",
        "    if re.match(r'[a-z][\\D]', nombre_ingredientes['name']):\n",
        "        reemplazo = re.sub(r'[\\(\\)\\-\\[\\]\\,\\.]',' ',nombre_ingredientes['name'])\n",
        "        lista_ingredientes.append(reemplazo)\n",
        "        \n",
        "print(lista_ingredientes[:100])"
      ],
      "execution_count": 7,
      "outputs": [
        {
          "output_type": "stream",
          "name": "stdout",
          "text": [
            "['abacavir', 'abaloparatide', 'abarelix', 'abatacept', 'abciximab', 'abemaciclib', 'abetimus', 'abiraterone', 'acacia decurrens flower extract', 'acacia decurrens whole extract', 'acai berry extract', 'acai extract', 'acai fruit pulp', 'acai oil', 'acalabrutinib', 'acamprosate', 'acarbose', 'acebutolol', 'acecarbromal', 'aceclofenac', 'acefylline methylsilanol mannuronate', 'aceglutamide', 'acellular pertussis vaccine  inactivated', 'acemannan', 'acemetacin', 'acenocoumarol', 'acepromazine', 'aceprometazine', 'acesulfame', 'acetaldehyde', 'acetamide', 'acetamidoethoxyethanol', 'acetamidopropyl trimonium', 'acetaminophen', 'acetanilide', 'acetate', 'acetazolamide', 'acetiamine', 'acetic acid', 'acetic acid C 11', 'acetic anhydride', 'acetic monoethanolamide', 'acetohexamide', 'acetohydroxamic acid', 'acetone', 'acetophenazine', 'acetophenone', 'acetoxolone', 'acetyl arginine', 'acetyl carboxymethyl cocoyl glycine', 'acetyl cedrene', 'acetyl coenzyme A', 'acetyl decapeptide 3', 'acetyl dipeptide 1 cetyl ester', 'acetyl farnesylcysteine', 'acetyl glutamic acid', 'acetyl hexamethyl tetralin', 'acetyl hexapeptide 49', 'acetyl hexapeptide 8', 'acetyl octapeptide 3', 'acetyl salicylate', 'acetyl tetrapeptide 11', 'acetyl tetrapeptide 15', 'acetyl tetrapeptide 2', 'acetyl tetrapeptide 3', 'acetyl tetrapeptide 5', 'acetyl tetrapeptide 9', 'acetyl triethylhexyl citrate', 'acetyl trifluoromethylphenyl valylglycine  DL ', 'acetylated lanolin', 'acetylated lanolin alcohols', 'acetylated sucrose distearate', 'acetylcarnitine', 'acetylcellulose', 'acetylcholine', 'acetylcholinesterase', 'acetylcholinesterase human', 'acetylcysteine', 'acetyldigitoxin', 'acetyldigoxins', 'acetylene', 'acetylglucosamine', 'acetylmandelic acid   +  ', 'acetylsalicylsalicylic acid', 'acetyltributyl citrate', 'acetyltriethyl citrate', 'acetyltryptophanate', 'acexamic acid', 'acid black 52', 'acid blue 25', 'acid blue 80', 'acid blue 9 ammonium', 'acid green 50', 'acid orange 20', 'acid red 1', 'acid red 35', 'acid violet 43', 'acid violet 9', 'acid yellow 1', 'acidulated phosphate fluoride']\n"
          ]
        }
      ]
    },
    {
      "cell_type": "markdown",
      "metadata": {
        "id": "4Kr8JXV0SUju"
      },
      "source": [
        "2. Consuma la siguiente API: \n",
        "\n",
        "```\n",
        "https://pubchem.ncbi.nlm.nih.gov/rest/pug/compound/name/{ingrediente}/synonyms/json\n",
        "```\n",
        "Esta le permite ver la lista de los sinónimos de los ingredientes de la lista anterior, debe reemplazar {ingrediente}, con el nombre de la lista del paso 1.\n"
      ]
    },
    {
      "cell_type": "code",
      "metadata": {
        "id": "WCPy4cJurJ7r"
      },
      "source": [
        "url_sinonimos = 'https://pubchem.ncbi.nlm.nih.gov/rest/pug/compound/name/{}/synonyms/json'\n",
        "lista_sinonimos = []\n",
        "\n",
        "for dct in json_ingredientes[\"minConceptGroup\"]['minConcept']:\n",
        "    try:\n",
        "      \n",
        "        response_sinonimos = requests.get(url_sinonimos.format(dct['name']))\n",
        "        json_sinonimos = response_sinonimos.json() \n",
        "        lista_sinonimos.append(json_sinonimos)\n",
        "\n",
        "    except:\n",
        "        continue\n",
        "    "
      ],
      "execution_count": null,
      "outputs": []
    },
    {
      "cell_type": "code",
      "metadata": {
        "id": "L-JMLl_Y4QWu"
      },
      "source": [
        "with open('data.json','w') as f:\n",
        "  json.dump(lista_sinonimos,f,indent=4)"
      ],
      "execution_count": null,
      "outputs": []
    },
    {
      "cell_type": "markdown",
      "metadata": {
        "id": "fydNrNCsUw0C"
      },
      "source": [
        "Se guarda la lista en un archivo json:"
      ]
    },
    {
      "cell_type": "code",
      "metadata": {
        "id": "GFVzI8cLR2_2"
      },
      "source": [
        "with open('data.json') as file:\n",
        "    datos_sinonimos = json.load(file)"
      ],
      "execution_count": 11,
      "outputs": []
    },
    {
      "cell_type": "code",
      "metadata": {
        "colab": {
          "base_uri": "https://localhost:8080/"
        },
        "id": "xb8u4dKUTHtJ",
        "outputId": "0f203661-b3a9-498d-ff2c-edd7d6bbbaa5"
      },
      "source": [
        "print(type(data))"
      ],
      "execution_count": 303,
      "outputs": [
        {
          "output_type": "stream",
          "name": "stdout",
          "text": [
            "<class 'list'>\n"
          ]
        }
      ]
    },
    {
      "cell_type": "code",
      "metadata": {
        "colab": {
          "base_uri": "https://localhost:8080/"
        },
        "id": "uBFbb-jmgwZF",
        "outputId": "348d790c-8a9b-47c1-f60f-27ce38be8e37"
      },
      "source": [
        "print(datos_sinonimos[:10])"
      ],
      "execution_count": 12,
      "outputs": [
        {
          "output_type": "stream",
          "name": "stdout",
          "text": [
            "[{'InformationList': {'Information': [{'CID': 14650275, 'Synonym': ['97553-90-7', 'UNII-S78T1JQV6B', 'S78T1JQV6B', 'Methanol, (((1-methyl-2-(5-methyl-3-oxazolidinyl)ethoxy)methoxy)methoxy)-', '(((1-methyl-2-(5-methyl-3-oxazolidinyl)ethoxy)methoxy)methoxy)-methanol', '(((1-Methyl-2-(5-Methyl-3-Oxazolidinyl)Ethoxy)Methoxy)Methoxy)Methanol', '[[[1-Methyl-2-(5-methyl-3-oxazolidinyl)ethoxy]methoxy]methoxy]methanol', 'SCHEMBL1893826', 'DTXSID5034721', '(((1-Methyl-2-(5-methyl-3-oxazolidinyl)ethyoxy)methoxy)methoxy)methanol', 'Q27288768']}]}}, {'Fault': {'Code': 'PUGREST.NotFound', 'Message': 'No CID found', 'Details': ['No CID found that matches the given name']}}, {'InformationList': {'Information': [{'CID': 10857465, 'Synonym': ['(-)-Ambroxide', '6790-58-5', 'Ambroxan', 'Ambroxide', 'Ambrox', 'UNII-TD34B3O8M9', 'TD34B3O8M9', 'CHEBI:78307', '8alpha,12-Oxido-13,14,15,16-tetranorlabdane', 'FEMA No. 3471', '1,5,5,9-Tetramethyl-13-oxatricyclo[8.3.0.0(4,9)]tridecane', '(3aR,5aS,9aS,9bR)-3a,6,6,9a-tetramethyl-2,4,5,5a,7,8,9,9b-octahydro-1H-benzo[e][1]benzofuran', '(3aR,5aS,9aS,9bR)-3a,6,6,9a-tetramethyldodecahydronaphtho[2,1-b]furan', 'Naphtho(2,1-b)furan, dodecahydro-3a,6,6,9a-tetramethyl-, (3aR,5aS,9aS,9bR)-', 'EINECS 229-861-2', '(-)-ambrox', '(+/-)-Ambrox', 'Ambroxide, (+/-)-', '(-)-Ambroxide, 99%', 'EC 229-861-2', 'DSSTox_CID_27113', 'DSSTox_RID_82123', 'DSSTox_GSID_47113', 'SCHEMBL114912', '(-)-Ambroxide, >=99%', 'CHEMBL496447', 'DTXSID0047113', '(-)-Ambroxide, analytical standard', 'HY-N1384', 'ZINC1043941', 'Tox21_302674', 'MFCD00134491', 's5175', 'AKOS025311143', 'CCG-266845', 'NCGC00256883-01', '100679-85-4', 'AS-56452', 'Dodecahydro-3a,6,6,9a-tetramethylnaphtho(2,1-b)furan, (3aR-(3aalpha,5abeta,9aalpha,9bbeta))-', 'L374', 'Naphtho(2,1-b)furan, dodecahydro-3a,6,6,9a-tetramethyl-, (3aR-(3aalpha,5abeta,9aalpha,9bbeta))-', 'CAS-6790-58-5', 'CS-0016804', '4-Pentyloxyphenyl-4-Trans-PropylcyclohexylBenzo', 'Q2793438', 'F0001-1783', 'UNII-K60YJF1E9A component YPZUZOLGGMJZJO-LQKXBSAESA-N', '1,5,5,9-Tetramethyl-13-oxatricyclo (8.3.0.0.(4.9))tridecane', '1,5,5,9-Tetramethyl-13-oxatricyclo(8.3.0.0(sup 4,9))tridecane', '1,5,5,9-Tetramethyl-13-oxatricyclo(8.3.0.0(4,9))tridecane, (-)-', '(+/-)-(3aalpha,5abeta,9aalpha,9bbeta)-3a,6,6,9a-Tetramethyldodecahydronaphtho(2,1-b)furan', 'Naphtho(2,1-b)furan, dodecahydro-3a,6,6,9a-tetramethyl-, (3aalpha,5abeta,9aalpha,9bbeta)-', 'Naphtho(2,1-b)furan, dodecahydro-3a,6,6,9a-tetramethyl-, (3aR,5aS,9aS,9bR)-rel-', '(3AR-(3aalpha,5abeta,9aalpha,9bbeta))-dodecahydro-3a,6,6,9a-tetramethylnaphtho(2,1-b)furan', 'Naphtho(2,1-b)furan, dodecahydro-3a,6,6,9a-tetramethyl-, (3aalpha,5abeta,9aalpha,9bbeta)-(+/-)-']}]}}, {'InformationList': {'Information': [{'CID': 14233, 'Synonym': ['tert-Butylurea', 'N-tert-Butylurea', '1118-12-3', '(1,1-Dimethylethyl)urea', 'UREA, tert-BUTYL-', 'Urea, (1,1-dimethylethyl)-', '1-tert-Butylurea', 'tert-butyl urea', 'Urea, N-(1,1-dimethylethyl)-', 'UNII-T81TP489AF', 'T81TP489AF', 'MFCD00025448', 'NSC 4604', 'EINECS 214-257-3', 'BRN 1744501', 't-butylurea', 'NSC4604', 'tert-butyl isourea', 'N-(tert-butyl)urea', 'ACMC-20ajk8', 'Urea,1-dimethylethyl)-', 'amino-N-(tert-butyl)amide', 'DSSTox_CID_24365', 'DSSTox_RID_80173', 'N-(1,1-dimethylethyl)urea', 'DSSTox_GSID_44365', 'SCHEMBL23828', '4-04-00-00665 (Beilstein Handbook Reference)', 'CHEMBL3184658', 'DTXSID0044365', 'SCHEMBL17011644', 'N-tert-Butylurea, >=97.0%', 'Tert-Butylurea; N-tert-Butylurea', 'ZINC397497', 'NSC-4604', 'Tox21_302081', '7334AF', 'SBB008606', 'AKOS000120185', 'MCULE-7867571542', 'VZ36916', 'NCGC00255818-01', 'CAS-1118-12-3', 'DB-041007', 'FT-0633346', 'J-002633']}]}}, {'Fault': {'Code': 'PUGREST.NotFound', 'Message': 'No CID found', 'Details': ['No CID found that matches the given name']}}, {'InformationList': {'Information': [{'CID': 11073797, 'Synonym': ['133481-09-1', '2-(1-cyanocyclohexyl)acetic Acid', '1-cyanocyclohexaneacetic acid', '(1-Cyanocyclohexyl)acetic acid', 'Gabapentin Related Compound B', 'UNII-E1393FZ76L', '(1-Cyanocyclohexyl)-acetic acid', 'E1393FZ76L', 'Cyclohexaneacetic acid,1-cyano-', 'Cyclohexaneacetic acid, 1-cyano-', 'gabapentin usp rc b', 'ACMC-20aa2u', 'gabapentin related material b', 'SCHEMBL840651', 'DTXSID40158130', 'BCP04520', 'ZINC2529197', '6091AA', 'ANW-63988', 'MFCD04117948', '1-CYANOCYCLOHEXANE ACETIC ACID', 'AKOS006291872', 'VZ21391', 'AK-58083', 'DB-062980', 'FT-0657196', '481C091', 'J-006389', 'Q27276734', '(1-Cyanocyclohexyl)acetic acid, analytical reference material', 'Gabapentin impurity B, European Pharmacopoeia (EP) Reference Standard', 'Gabapentin Related Compound B, United States Pharmacopeia (USP) Reference Standard', '(1-CYANOCYCLOHEXYL)ACETIC ACID(Gabapentin Related Compound B)(Gabapentin Impurity B), Pharmaceutical Secondary Standard; Certified Reference Material']}]}}, {'Fault': {'Code': 'PUGREST.NotFound', 'Message': 'No CID found', 'Details': ['No CID found that matches the given name']}}, {'InformationList': {'Information': [{'CID': 87378, 'Synonym': ['(2-Carbethoxyethyl)diethoxy(methyl)silane', 'UNII-N28HAC3H5P', 'ethyl 3-[diethoxy(methyl)silyl]propanoate', 'N28HAC3H5P', '17963-09-6', 'BRN 2092919', 'Diethoxy-2-ethoxycarbonylethyl-methylsilane', 'Silane, diethoxy((2-ethoxycarbonyl)ethyl)methyl-', 'Propionic acid, 3-(diethoxymethylsilyl)-, ethyl ester', 'SCHEMBL9705684', 'DTXSID00939245', '3-[Diethoxy(methyl)silyl]propionic acid ethyl ester', 'Q27284416']}]}}, {'InformationList': {'Information': [{'CID': 80909, 'Synonym': ['(2-Carbethoxyethyl)triethoxysilane', '6439-39-0', 'UNII-S4I8J73T8G', 'ethyl 3-triethoxysilylpropanoate', 'S4I8J73T8G', 'BRN 1791336', 'Silane, ((2-ethoxycarbonyl)ethyl)triethoxy-', 'Propionic acid, 3-(triethoxysilyl)-, ethyl ester', '3-(Triethoxysilyl)propanoic acid, ethyl ester', 'PROPANOICACID,3-(TRIETHOXYSILYL)-,ETHYLESTER', 'SCHEMBL3682278', 'DTXSID30214597', 'ZINC195765243', 'Triethoxy (2-ethoxycarbonylethyl) silane', '[2-(ethoxycarbonyl)ethyl]triethoxylsilane', '3-(Triethoxysilyl)propionic acid ethyl ester', 'Q27288583']}]}}, {'InformationList': {'Information': [{'CID': 2624926, 'Synonym': ['(2-Chlorophenyl)methyl 4-hydroxybenzoate', '85392-27-4', 'UNII-7910S1F5QK', '7910S1F5QK', 'EINECS 286-886-1', 'SCHEMBL831262', 'DTXSID70234592', 'ZINC3507909', '4-Hydroxybenzoic acid (2-chlorophenyl)methyl ester', 'Q27266703']}]}}]\n"
          ]
        }
      ]
    },
    {
      "cell_type": "markdown",
      "metadata": {
        "id": "LFsVYqNeUzqc"
      },
      "source": [
        "3. Estos sinónimos deben ser clasificados de la siguiente manera: \n",
        "\n",
        "●  Identificadores -> puede comenzar con algunas letras, pero contiene en su mayoría números, las letras no son relativas al ingredientes, Ex: MLS000069733 \n",
        "\n",
        "●  Compuestos -> puede contener paréntesis, corchetes, números, que indican los compuestos del ingrediente, Ex: 4-Isobutyl-alpha-methylphenylacetic acid \n",
        "\n",
        "●  Traducciones -> contiene corchetes en los que indica el nombre del ingrediente en otro idioma, Ex: Ibuprofene [INN-French] \n",
        "\n",
        "● Ingrediente -> son aquellos que no están en las anteriores clasificaciones, pero tiene una relación con el ingrediente, Ex: Advil Liqui-Gels "
      ]
    },
    {
      "cell_type": "markdown",
      "metadata": {
        "id": "d2JrDEV3U8ql"
      },
      "source": [
        "4. Su limpieza, depende de su clasificación: \n",
        "\n",
        "● Identificadores -> debe quedar solo el número de su identificación, Ex: MLS000069733 = 000069733 \n",
        "\n",
        "● Compuestos -> debe quedar sin caracteres especiales, Ex: \n",
        "4-Isobutyl-alpha-methylphenylacetic acid = 4 Isobutyl alpha methylphenylacetic acid\n",
        "\n",
        "● Traducciones -> se debe quitar el contenido de los corchetes, Ex: Ibuprofene [INN-French] = Ibuprofene "
      ]
    },
    {
      "cell_type": "markdown",
      "metadata": {
        "id": "Xy2CGnRqvMsd"
      },
      "source": [
        "Se define una función para clasificar y realizar la limpieza de los datos con expresiones regulares."
      ]
    },
    {
      "cell_type": "code",
      "metadata": {
        "id": "_vvAPtZtvQcX"
      },
      "source": [
        "def clasificar(s):\n",
        "  \n",
        "  if re.match(r'^[a-zA-Z]+\\d+$', s):\n",
        "      clase='indicador'\n",
        "      valor=re.findall(r'\\d+', s)[0]\n",
        "\n",
        "  elif re.match(r'^[a-zA-Z]+ \\[.*\\]$', s):\n",
        "      clase='traducción'\n",
        "      valor= s.split(' [')[0]\n",
        "\n",
        "\n",
        "  elif re.match(r'^[\\(|\\[|\\d]+\\D+$', s):\n",
        "      clase='compuesto' \n",
        "      valor=re.sub(r'[\\(\\)\\-\\[\\]\\{\\}\\.\\,]',' ',s)\n",
        "\n",
        "  elif re.match(r'^[\\w]+\\D+$', s):\n",
        "      clase='ingrediente'\n",
        "      valor = re.sub(r'[\\(\\)\\-\\[\\]\\,\\.]',' ',s)\n",
        "\n",
        "\n",
        "  return [clase,valor]\n"
      ],
      "execution_count": 13,
      "outputs": []
    },
    {
      "cell_type": "markdown",
      "metadata": {
        "id": "5ggLA1w_vZNV"
      },
      "source": [
        "A continuación probamos la función de clasificación con los ejemplos:"
      ]
    },
    {
      "cell_type": "code",
      "metadata": {
        "colab": {
          "base_uri": "https://localhost:8080/"
        },
        "id": "V5YokPNrvZ5k",
        "outputId": "00d3165b-8f1c-4979-e530-bc9c7e440580"
      },
      "source": [
        "clasificar ('MLS000069733')"
      ],
      "execution_count": 14,
      "outputs": [
        {
          "output_type": "execute_result",
          "data": {
            "text/plain": [
              "['indicador', '000069733']"
            ]
          },
          "metadata": {},
          "execution_count": 14
        }
      ]
    },
    {
      "cell_type": "code",
      "metadata": {
        "colab": {
          "base_uri": "https://localhost:8080/"
        },
        "id": "SaHoLkPkvbaU",
        "outputId": "a95c93fd-814e-4f33-a275-cfc61b3883e9"
      },
      "source": [
        "clasificar('Ibuprofene [INN-French]')"
      ],
      "execution_count": 15,
      "outputs": [
        {
          "output_type": "execute_result",
          "data": {
            "text/plain": [
              "['traducción', 'Ibuprofene']"
            ]
          },
          "metadata": {},
          "execution_count": 15
        }
      ]
    },
    {
      "cell_type": "code",
      "metadata": {
        "colab": {
          "base_uri": "https://localhost:8080/"
        },
        "id": "het0zbqBwC8g",
        "outputId": "0952376d-c72d-4bf4-9ed9-a7666dab2aac"
      },
      "source": [
        "clasificar('(1-Cyanocyclohexyl)-acetic acid')"
      ],
      "execution_count": 16,
      "outputs": [
        {
          "output_type": "execute_result",
          "data": {
            "text/plain": [
              "['compuesto', ' 1 Cyanocyclohexyl  acetic acid']"
            ]
          },
          "metadata": {},
          "execution_count": 16
        }
      ]
    },
    {
      "cell_type": "code",
      "metadata": {
        "colab": {
          "base_uri": "https://localhost:8080/"
        },
        "id": "n9PHr3R9wWKc",
        "outputId": "24dab834-b3b6-4d94-b154-146a915f4028"
      },
      "source": [
        "clasificar('Advil Liqui-Gels')"
      ],
      "execution_count": 17,
      "outputs": [
        {
          "output_type": "execute_result",
          "data": {
            "text/plain": [
              "['ingrediente', 'Advil Liqui Gels']"
            ]
          },
          "metadata": {},
          "execution_count": 17
        }
      ]
    },
    {
      "cell_type": "markdown",
      "metadata": {
        "id": "nBXoaDZnsaCo"
      },
      "source": [
        "5. Debe construir un modelo SQL que nos ayude a tener un mejor desempeño. Por favor adjunte el script SQL (Se adjunta en el Git)"
      ]
    },
    {
      "cell_type": "markdown",
      "metadata": {
        "id": "Q5721SVPZoT_"
      },
      "source": [
        "6. Los datos de los ingredientes, sus sinónimos, clasificaciones y limpiezas deben ser cargados en este modelo, tenga en cuenta que será una tarea recurrente, escoja la mejor solución."
      ]
    },
    {
      "cell_type": "markdown",
      "metadata": {
        "id": "uAHboCVmzAWd"
      },
      "source": [
        "####Clasifiación"
      ]
    },
    {
      "cell_type": "code",
      "metadata": {
        "id": "aSJ3XxywwnVM"
      },
      "source": [
        "lista_indicador =[]\n",
        "lista_traduccion =[]\n",
        "lista_compuesto =[]\n",
        "lista_ingrediente_sinonimo =[]\n",
        "\n",
        "for lst in datos_sinonimos:\n",
        "    try:\n",
        "        for sinonimo in lst['InformationList']['Information'][0]['Synonym']:\n",
        "\n",
        "            if (clasificar(sinonimo))[0]=='indicador':\n",
        "                lista_indicador.append(clasificar(sinonimo)[1])\n",
        "\n",
        "            elif (clasificar(sinonimo))[0]=='traducción':\n",
        "                lista_traduccion.append(clasificar(sinonimo)[1])\n",
        "\n",
        "            elif (clasificar(sinonimo))[0]=='compuesto':\n",
        "                lista_compuesto.append(clasificar(sinonimo)[1])\n",
        "\n",
        "            elif (clasificar(sinonimo))[0]=='ingrediente':\n",
        "                lista_ingrediente_sinonimo.append(clasificar(sinonimo)[1])\n",
        "            \n",
        "        \n",
        "    except:\n",
        "        continue\n"
      ],
      "execution_count": 18,
      "outputs": []
    },
    {
      "cell_type": "code",
      "metadata": {
        "colab": {
          "base_uri": "https://localhost:8080/"
        },
        "id": "1gMi4MtyUIrh",
        "outputId": "85d2bbe9-02db-4129-87db-091df8c56cec"
      },
      "source": [
        "print(lista_indicador)"
      ],
      "execution_count": 19,
      "outputs": [
        {
          "output_type": "stream",
          "name": "stdout",
          "text": [
            "['942690', '144673', '400', '497001', '27281064', '3', '1200706', '2036405', '27275662', '9717201', '401014240', '104', '207', '20556367', '27293196', '00149613', '3666', '101', '14663410', '10788', '378', '015899605', '30988741', '024350585', '85562417', '27293594', '07549', '818', '49244', '126518', '3299031', '3058321', '27254647', '27271394', '2', '11197', '1191', '5572303', '905673', '14035818', '3899231', '4118441', '423846', '27279034', '81047', '3291398', '27266252', '2211', '104', '161239', '17096041', '0010', '27280732', '00011109', '50973073', '70894993', '754952', '2', '00003463', '461', '1201235', '412', '7364', '10142864', '121175', '2912822', '12518166', '27283332', '2', '10', '130', '333328', '699', '60444', '054828', '1091256', '50410807', '00781', '807660', '00156359', '152846', '2104433', '22389514', '228', '9535', '2146115', '001333570', '000875281', '6218', '1230373']\n"
          ]
        }
      ]
    },
    {
      "cell_type": "code",
      "metadata": {
        "colab": {
          "base_uri": "https://localhost:8080/",
          "height": 422
        },
        "id": "pgqM0sknWpAV",
        "outputId": "401ded30-17c9-41bc-d6b7-3f71bc89c133"
      },
      "source": [
        "df_indicador = pd.DataFrame(lista_indicador, columns=['Indicador'])\n",
        "df_indicador"
      ],
      "execution_count": 20,
      "outputs": [
        {
          "output_type": "execute_result",
          "data": {
            "text/html": [
              "<div>\n",
              "<style scoped>\n",
              "    .dataframe tbody tr th:only-of-type {\n",
              "        vertical-align: middle;\n",
              "    }\n",
              "\n",
              "    .dataframe tbody tr th {\n",
              "        vertical-align: top;\n",
              "    }\n",
              "\n",
              "    .dataframe thead th {\n",
              "        text-align: right;\n",
              "    }\n",
              "</style>\n",
              "<table border=\"1\" class=\"dataframe\">\n",
              "  <thead>\n",
              "    <tr style=\"text-align: right;\">\n",
              "      <th></th>\n",
              "      <th>Indicador</th>\n",
              "    </tr>\n",
              "  </thead>\n",
              "  <tbody>\n",
              "    <tr>\n",
              "      <th>0</th>\n",
              "      <td>942690</td>\n",
              "    </tr>\n",
              "    <tr>\n",
              "      <th>1</th>\n",
              "      <td>144673</td>\n",
              "    </tr>\n",
              "    <tr>\n",
              "      <th>2</th>\n",
              "      <td>400</td>\n",
              "    </tr>\n",
              "    <tr>\n",
              "      <th>3</th>\n",
              "      <td>497001</td>\n",
              "    </tr>\n",
              "    <tr>\n",
              "      <th>4</th>\n",
              "      <td>27281064</td>\n",
              "    </tr>\n",
              "    <tr>\n",
              "      <th>...</th>\n",
              "      <td>...</td>\n",
              "    </tr>\n",
              "    <tr>\n",
              "      <th>85</th>\n",
              "      <td>2146115</td>\n",
              "    </tr>\n",
              "    <tr>\n",
              "      <th>86</th>\n",
              "      <td>001333570</td>\n",
              "    </tr>\n",
              "    <tr>\n",
              "      <th>87</th>\n",
              "      <td>000875281</td>\n",
              "    </tr>\n",
              "    <tr>\n",
              "      <th>88</th>\n",
              "      <td>6218</td>\n",
              "    </tr>\n",
              "    <tr>\n",
              "      <th>89</th>\n",
              "      <td>1230373</td>\n",
              "    </tr>\n",
              "  </tbody>\n",
              "</table>\n",
              "<p>90 rows × 1 columns</p>\n",
              "</div>"
            ],
            "text/plain": [
              "    Indicador\n",
              "0      942690\n",
              "1      144673\n",
              "2         400\n",
              "3      497001\n",
              "4    27281064\n",
              "..        ...\n",
              "85    2146115\n",
              "86  001333570\n",
              "87  000875281\n",
              "88       6218\n",
              "89    1230373\n",
              "\n",
              "[90 rows x 1 columns]"
            ]
          },
          "metadata": {},
          "execution_count": 20
        }
      ]
    },
    {
      "cell_type": "code",
      "metadata": {
        "colab": {
          "base_uri": "https://localhost:8080/"
        },
        "id": "nU1oJdSKUQSV",
        "outputId": "75fc2d0b-8f97-4e17-d002-e4cefec5e476"
      },
      "source": [
        "print(lista_compuesto[:50])"
      ],
      "execution_count": 21,
      "outputs": [
        {
          "output_type": "stream",
          "name": "stdout",
          "text": [
            "['    Ambroxide', ' 2 Carbethoxyethyl diethoxy methyl silane', ' 2 Carbethoxyethyl triethoxysilane', '2   hydroxymethyl amino ethanol', ' 3 Bromopropyl benzene', '3 Chloropropyltrimethoxysilane', '4  Trifluoromethoxy phenylurea', ' Dibutylamino methanol', ' Ethylenedinitrilo tetraacetonitrile', ' p Hydroxyphenyl dimethylsulfonium chloride', '8 Damascone', ' +  delta Tocopherol', '8 Methyltocol', '2 Hydroxypropyl benzoate', '4 Hydroxybutyl stearate', '6 Paradol', '1 BUTENE', '1 DECENE', '1 EICOSENE', '1 Hexadecene', '1 Methylhydantoin', '1 NAPHTHALENESULFONIC ACID', '1 NAPHTHOL', '1 o tetradecylglycerol', '1 Octacosanol', '1 octanol', '1 Phenylethanol', '1 propanol', '1 Tetracosanol', '10 Hydroxydecanoic acid', '10 Hydroxystearic acid', '10 Undecenal', '12R HEPE', '12 hydroxyoctadecanoate', '12 hydroxystearate', '12 hydroxystearic acid anion', '12 Oxooctadecanoic acid', '16 METHYLHEPTADECANOIC ACID', '17ALPHA HYDROXYPROGESTERONE', '17 Hydroxyprogesterone', '17 Hydroxystearic acid', '17 hydroxyoctadecanoic acid', '17 hydroxy stearic acid', '17 hydroxy octadecanoic acid', \"2' Hydroxyacetophenone\", '2  Dibutylamino ethyl methacrylate', '2  Dipropylamino ethanol', '2  l Menthoxy ethanol', '2  Methylamino ethanol', '2 Acetylnaphthalene']\n"
          ]
        }
      ]
    },
    {
      "cell_type": "code",
      "metadata": {
        "colab": {
          "base_uri": "https://localhost:8080/",
          "height": 422
        },
        "id": "UiKnFNm1XzD8",
        "outputId": "bf1936a9-69fb-4b98-cf48-c574fdd193fd"
      },
      "source": [
        "df_compuesto = pd.DataFrame(lista_compuesto, columns=['Compuesto'])\n",
        "df_compuesto = df_compuesto.rename_axis('Compuesto_Id').reset_index()\n",
        "df_compuesto"
      ],
      "execution_count": 22,
      "outputs": [
        {
          "output_type": "execute_result",
          "data": {
            "text/html": [
              "<div>\n",
              "<style scoped>\n",
              "    .dataframe tbody tr th:only-of-type {\n",
              "        vertical-align: middle;\n",
              "    }\n",
              "\n",
              "    .dataframe tbody tr th {\n",
              "        vertical-align: top;\n",
              "    }\n",
              "\n",
              "    .dataframe thead th {\n",
              "        text-align: right;\n",
              "    }\n",
              "</style>\n",
              "<table border=\"1\" class=\"dataframe\">\n",
              "  <thead>\n",
              "    <tr style=\"text-align: right;\">\n",
              "      <th></th>\n",
              "      <th>Compuesto_Id</th>\n",
              "      <th>Compuesto</th>\n",
              "    </tr>\n",
              "  </thead>\n",
              "  <tbody>\n",
              "    <tr>\n",
              "      <th>0</th>\n",
              "      <td>0</td>\n",
              "      <td>Ambroxide</td>\n",
              "    </tr>\n",
              "    <tr>\n",
              "      <th>1</th>\n",
              "      <td>1</td>\n",
              "      <td>2 Carbethoxyethyl diethoxy methyl silane</td>\n",
              "    </tr>\n",
              "    <tr>\n",
              "      <th>2</th>\n",
              "      <td>2</td>\n",
              "      <td>2 Carbethoxyethyl triethoxysilane</td>\n",
              "    </tr>\n",
              "    <tr>\n",
              "      <th>3</th>\n",
              "      <td>3</td>\n",
              "      <td>2   hydroxymethyl amino ethanol</td>\n",
              "    </tr>\n",
              "    <tr>\n",
              "      <th>4</th>\n",
              "      <td>4</td>\n",
              "      <td>3 Bromopropyl benzene</td>\n",
              "    </tr>\n",
              "    <tr>\n",
              "      <th>...</th>\n",
              "      <td>...</td>\n",
              "      <td>...</td>\n",
              "    </tr>\n",
              "    <tr>\n",
              "      <th>595</th>\n",
              "      <td>595</td>\n",
              "      <td>2 Propylpentanoic acid</td>\n",
              "    </tr>\n",
              "    <tr>\n",
              "      <th>596</th>\n",
              "      <td>596</td>\n",
              "      <td>Eburnamonine</td>\n",
              "    </tr>\n",
              "    <tr>\n",
              "      <th>597</th>\n",
              "      <td>597</td>\n",
              "      <td>22 Oxovincaleukoblastine</td>\n",
              "    </tr>\n",
              "    <tr>\n",
              "      <th>598</th>\n",
              "      <td>598</td>\n",
              "      <td>+  Viridiflorol</td>\n",
              "    </tr>\n",
              "    <tr>\n",
              "      <th>599</th>\n",
              "      <td>599</td>\n",
              "      <td>R S  Zeaxanthin</td>\n",
              "    </tr>\n",
              "  </tbody>\n",
              "</table>\n",
              "<p>600 rows × 2 columns</p>\n",
              "</div>"
            ],
            "text/plain": [
              "     Compuesto_Id                                  Compuesto\n",
              "0               0                                  Ambroxide\n",
              "1               1   2 Carbethoxyethyl diethoxy methyl silane\n",
              "2               2          2 Carbethoxyethyl triethoxysilane\n",
              "3               3            2   hydroxymethyl amino ethanol\n",
              "4               4                      3 Bromopropyl benzene\n",
              "..            ...                                        ...\n",
              "595           595                     2 Propylpentanoic acid\n",
              "596           596                               Eburnamonine\n",
              "597           597                   22 Oxovincaleukoblastine\n",
              "598           598                            +  Viridiflorol\n",
              "599           599                            R S  Zeaxanthin\n",
              "\n",
              "[600 rows x 2 columns]"
            ]
          },
          "metadata": {},
          "execution_count": 22
        }
      ]
    },
    {
      "cell_type": "code",
      "metadata": {
        "id": "XU63FoCORIsC",
        "colab": {
          "base_uri": "https://localhost:8080/"
        },
        "outputId": "cc281a1b-8ff1-4d0f-9b02-f85a9b7be3ce"
      },
      "source": [
        "print(lista_traduccion)"
      ],
      "execution_count": 23,
      "outputs": [
        {
          "output_type": "stream",
          "name": "stdout",
          "text": [
            "['Alatrofloxacin', 'Aldioxum', 'Amylocaine', 'Bambermycine', 'Bambermycinum', 'Bambermicina', 'Bambermycin', 'Barbexaclone', 'Boroglycerin', 'Buprenorfina', 'Buprenorphinum', 'Casanthranol', 'Cefepimum', 'Cefepima', 'Cetiedilum', 'Enclomiphene', 'Dantrolenum', 'Dantroleno', 'Dihexyverine', 'Elapegademase', 'Guaietolin', 'Halazepamum', 'Idrocodone', 'Levocabastinum', 'Levocabastina', 'Methorfinan', 'Levorfanolo', 'Mangafodipir', 'Bruinsteen', 'Braunstein', 'Mangandioxid', 'Mangaanbioxyde', 'Mangaandioxyde', 'Melarsomine', 'Metaraminolum', 'Acetilmetadol', 'Acetylmethadolum', 'Methyprylone', 'Methyprylonum', 'Metiprilona', 'Nifurzide', 'Nusinersen', 'Omoconazole', 'Orgotein', 'Orgotein', 'Orgotein', 'Orgotein', 'Orgotein', 'Orgotein', 'Methocidine', 'Methocidinum', 'Metocidina', 'Pegvaliase', 'Pergolidum', 'Pergolida', 'Profenamina', 'Ritodrina', 'Ritodrinium', 'Calcitonine', 'Calcitoninum', 'Secretine', 'Secretinum', 'Secretina', 'Sitosterols', 'Sucralfatum', 'Sucralfato', 'Tocophersolan', 'Tocofersolan']\n"
          ]
        }
      ]
    },
    {
      "cell_type": "code",
      "metadata": {
        "colab": {
          "base_uri": "https://localhost:8080/",
          "height": 422
        },
        "id": "VzALbg-IVkW3",
        "outputId": "f94893d2-a62c-471a-f18d-34c05c8367df"
      },
      "source": [
        "df_traduccion = pd.DataFrame(lista_traduccion,columns=['Traduccion'])\n",
        "df_traduccion = df_traduccion.rename_axis('Traduccion_Id').reset_index()\n",
        "df_traduccion.duplicated()\n",
        "df_traduccion\n"
      ],
      "execution_count": 24,
      "outputs": [
        {
          "output_type": "execute_result",
          "data": {
            "text/html": [
              "<div>\n",
              "<style scoped>\n",
              "    .dataframe tbody tr th:only-of-type {\n",
              "        vertical-align: middle;\n",
              "    }\n",
              "\n",
              "    .dataframe tbody tr th {\n",
              "        vertical-align: top;\n",
              "    }\n",
              "\n",
              "    .dataframe thead th {\n",
              "        text-align: right;\n",
              "    }\n",
              "</style>\n",
              "<table border=\"1\" class=\"dataframe\">\n",
              "  <thead>\n",
              "    <tr style=\"text-align: right;\">\n",
              "      <th></th>\n",
              "      <th>Traduccion_Id</th>\n",
              "      <th>Traduccion</th>\n",
              "    </tr>\n",
              "  </thead>\n",
              "  <tbody>\n",
              "    <tr>\n",
              "      <th>0</th>\n",
              "      <td>0</td>\n",
              "      <td>Alatrofloxacin</td>\n",
              "    </tr>\n",
              "    <tr>\n",
              "      <th>1</th>\n",
              "      <td>1</td>\n",
              "      <td>Aldioxum</td>\n",
              "    </tr>\n",
              "    <tr>\n",
              "      <th>2</th>\n",
              "      <td>2</td>\n",
              "      <td>Amylocaine</td>\n",
              "    </tr>\n",
              "    <tr>\n",
              "      <th>3</th>\n",
              "      <td>3</td>\n",
              "      <td>Bambermycine</td>\n",
              "    </tr>\n",
              "    <tr>\n",
              "      <th>4</th>\n",
              "      <td>4</td>\n",
              "      <td>Bambermycinum</td>\n",
              "    </tr>\n",
              "    <tr>\n",
              "      <th>...</th>\n",
              "      <td>...</td>\n",
              "      <td>...</td>\n",
              "    </tr>\n",
              "    <tr>\n",
              "      <th>63</th>\n",
              "      <td>63</td>\n",
              "      <td>Sitosterols</td>\n",
              "    </tr>\n",
              "    <tr>\n",
              "      <th>64</th>\n",
              "      <td>64</td>\n",
              "      <td>Sucralfatum</td>\n",
              "    </tr>\n",
              "    <tr>\n",
              "      <th>65</th>\n",
              "      <td>65</td>\n",
              "      <td>Sucralfato</td>\n",
              "    </tr>\n",
              "    <tr>\n",
              "      <th>66</th>\n",
              "      <td>66</td>\n",
              "      <td>Tocophersolan</td>\n",
              "    </tr>\n",
              "    <tr>\n",
              "      <th>67</th>\n",
              "      <td>67</td>\n",
              "      <td>Tocofersolan</td>\n",
              "    </tr>\n",
              "  </tbody>\n",
              "</table>\n",
              "<p>68 rows × 2 columns</p>\n",
              "</div>"
            ],
            "text/plain": [
              "    Traduccion_Id      Traduccion\n",
              "0               0  Alatrofloxacin\n",
              "1               1        Aldioxum\n",
              "2               2      Amylocaine\n",
              "3               3    Bambermycine\n",
              "4               4   Bambermycinum\n",
              "..            ...             ...\n",
              "63             63     Sitosterols\n",
              "64             64     Sucralfatum\n",
              "65             65      Sucralfato\n",
              "66             66   Tocophersolan\n",
              "67             67    Tocofersolan\n",
              "\n",
              "[68 rows x 2 columns]"
            ]
          },
          "metadata": {},
          "execution_count": 24
        }
      ]
    },
    {
      "cell_type": "code",
      "metadata": {
        "colab": {
          "base_uri": "https://localhost:8080/",
          "height": 422
        },
        "id": "iDcRUDkrqe8C",
        "outputId": "f2ac86c7-6a8b-4983-a140-b68b31c5379e"
      },
      "source": [
        "df_sinonimo_ingrediente = pd.DataFrame(lista_ingrediente_sinonimo,columns=['Ingrediente_Sinonimo'])\n",
        "df_sinonimo_ingrediente = df_sinonimo_ingrediente.rename_axis('Ingrediente_Sinonimo_Id').reset_index()\n",
        "df_sinonimo_ingrediente.duplicated()\n",
        "df_sinonimo_ingrediente"
      ],
      "execution_count": 349,
      "outputs": [
        {
          "output_type": "execute_result",
          "data": {
            "text/html": [
              "<div>\n",
              "<style scoped>\n",
              "    .dataframe tbody tr th:only-of-type {\n",
              "        vertical-align: middle;\n",
              "    }\n",
              "\n",
              "    .dataframe tbody tr th {\n",
              "        vertical-align: top;\n",
              "    }\n",
              "\n",
              "    .dataframe thead th {\n",
              "        text-align: right;\n",
              "    }\n",
              "</style>\n",
              "<table border=\"1\" class=\"dataframe\">\n",
              "  <thead>\n",
              "    <tr style=\"text-align: right;\">\n",
              "      <th></th>\n",
              "      <th>Ingrediente_Sinonimo_Id</th>\n",
              "      <th>Ingrediente_Sinonimo</th>\n",
              "    </tr>\n",
              "  </thead>\n",
              "  <tbody>\n",
              "    <tr>\n",
              "      <th>0</th>\n",
              "      <td>0</td>\n",
              "      <td>tert Butylurea</td>\n",
              "    </tr>\n",
              "    <tr>\n",
              "      <th>1</th>\n",
              "      <td>1</td>\n",
              "      <td>N tert Butylurea</td>\n",
              "    </tr>\n",
              "    <tr>\n",
              "      <th>2</th>\n",
              "      <td>2</td>\n",
              "      <td>Oleyl acetate</td>\n",
              "    </tr>\n",
              "    <tr>\n",
              "      <th>3</th>\n",
              "      <td>3</td>\n",
              "      <td>Osbond acid</td>\n",
              "    </tr>\n",
              "    <tr>\n",
              "      <th>4</th>\n",
              "      <td>4</td>\n",
              "      <td>Methanol   dibutylamino</td>\n",
              "    </tr>\n",
              "    <tr>\n",
              "      <th>...</th>\n",
              "      <td>...</td>\n",
              "      <td>...</td>\n",
              "    </tr>\n",
              "    <tr>\n",
              "      <th>9449</th>\n",
              "      <td>9449</td>\n",
              "      <td>zomepirac</td>\n",
              "    </tr>\n",
              "    <tr>\n",
              "      <th>9450</th>\n",
              "      <td>9450</td>\n",
              "      <td>zonisamide</td>\n",
              "    </tr>\n",
              "    <tr>\n",
              "      <th>9451</th>\n",
              "      <td>9451</td>\n",
              "      <td>zopiclone</td>\n",
              "    </tr>\n",
              "    <tr>\n",
              "      <th>9452</th>\n",
              "      <td>9452</td>\n",
              "      <td>zotepine</td>\n",
              "    </tr>\n",
              "    <tr>\n",
              "      <th>9453</th>\n",
              "      <td>9453</td>\n",
              "      <td>Zuclopenthixol</td>\n",
              "    </tr>\n",
              "  </tbody>\n",
              "</table>\n",
              "<p>9454 rows × 2 columns</p>\n",
              "</div>"
            ],
            "text/plain": [
              "      Ingrediente_Sinonimo_Id       Ingrediente_Sinonimo\n",
              "0                           0             tert Butylurea\n",
              "1                           1           N tert Butylurea\n",
              "2                           2              Oleyl acetate\n",
              "3                           3                Osbond acid\n",
              "4                           4  Methanol   dibutylamino  \n",
              "...                       ...                        ...\n",
              "9449                     9449                  zomepirac\n",
              "9450                     9450                 zonisamide\n",
              "9451                     9451                  zopiclone\n",
              "9452                     9452                   zotepine\n",
              "9453                     9453             Zuclopenthixol\n",
              "\n",
              "[9454 rows x 2 columns]"
            ]
          },
          "metadata": {},
          "execution_count": 349
        }
      ]
    },
    {
      "cell_type": "code",
      "metadata": {
        "colab": {
          "base_uri": "https://localhost:8080/",
          "height": 422
        },
        "id": "2htjTQR0tjnk",
        "outputId": "dfe47f2a-4990-45e1-e718-ed84aa72f16a"
      },
      "source": [
        "df_ingredientes = pd.DataFrame(lista_ingredientes,columns=['Ingrediente'])\n",
        "df_ingredientes = df_ingredientes.rename_axis('Ingrediente_Id').reset_index()\n",
        "df_ingredientes.duplicated()\n",
        "df_ingredientes"
      ],
      "execution_count": 25,
      "outputs": [
        {
          "output_type": "execute_result",
          "data": {
            "text/html": [
              "<div>\n",
              "<style scoped>\n",
              "    .dataframe tbody tr th:only-of-type {\n",
              "        vertical-align: middle;\n",
              "    }\n",
              "\n",
              "    .dataframe tbody tr th {\n",
              "        vertical-align: top;\n",
              "    }\n",
              "\n",
              "    .dataframe thead th {\n",
              "        text-align: right;\n",
              "    }\n",
              "</style>\n",
              "<table border=\"1\" class=\"dataframe\">\n",
              "  <thead>\n",
              "    <tr style=\"text-align: right;\">\n",
              "      <th></th>\n",
              "      <th>Ingrediente_Id</th>\n",
              "      <th>Ingrediente</th>\n",
              "    </tr>\n",
              "  </thead>\n",
              "  <tbody>\n",
              "    <tr>\n",
              "      <th>0</th>\n",
              "      <td>0</td>\n",
              "      <td>abacavir</td>\n",
              "    </tr>\n",
              "    <tr>\n",
              "      <th>1</th>\n",
              "      <td>1</td>\n",
              "      <td>abaloparatide</td>\n",
              "    </tr>\n",
              "    <tr>\n",
              "      <th>2</th>\n",
              "      <td>2</td>\n",
              "      <td>abarelix</td>\n",
              "    </tr>\n",
              "    <tr>\n",
              "      <th>3</th>\n",
              "      <td>3</td>\n",
              "      <td>abatacept</td>\n",
              "    </tr>\n",
              "    <tr>\n",
              "      <th>4</th>\n",
              "      <td>4</td>\n",
              "      <td>abciximab</td>\n",
              "    </tr>\n",
              "    <tr>\n",
              "      <th>...</th>\n",
              "      <td>...</td>\n",
              "      <td>...</td>\n",
              "    </tr>\n",
              "    <tr>\n",
              "      <th>8837</th>\n",
              "      <td>8837</td>\n",
              "      <td>zonisamide</td>\n",
              "    </tr>\n",
              "    <tr>\n",
              "      <th>8838</th>\n",
              "      <td>8838</td>\n",
              "      <td>zopiclone</td>\n",
              "    </tr>\n",
              "    <tr>\n",
              "      <th>8839</th>\n",
              "      <td>8839</td>\n",
              "      <td>zotepine</td>\n",
              "    </tr>\n",
              "    <tr>\n",
              "      <th>8840</th>\n",
              "      <td>8840</td>\n",
              "      <td>zucchini extract</td>\n",
              "    </tr>\n",
              "    <tr>\n",
              "      <th>8841</th>\n",
              "      <td>8841</td>\n",
              "      <td>zuclopenthixol</td>\n",
              "    </tr>\n",
              "  </tbody>\n",
              "</table>\n",
              "<p>8842 rows × 2 columns</p>\n",
              "</div>"
            ],
            "text/plain": [
              "      Ingrediente_Id       Ingrediente\n",
              "0                  0          abacavir\n",
              "1                  1     abaloparatide\n",
              "2                  2          abarelix\n",
              "3                  3         abatacept\n",
              "4                  4         abciximab\n",
              "...              ...               ...\n",
              "8837            8837        zonisamide\n",
              "8838            8838         zopiclone\n",
              "8839            8839          zotepine\n",
              "8840            8840  zucchini extract\n",
              "8841            8841    zuclopenthixol\n",
              "\n",
              "[8842 rows x 2 columns]"
            ]
          },
          "metadata": {},
          "execution_count": 25
        }
      ]
    }
  ]
}